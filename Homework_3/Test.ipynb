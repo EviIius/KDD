{
 "cells": [
  {
   "cell_type": "code",
   "execution_count": 21,
   "metadata": {},
   "outputs": [],
   "source": [
    "from mlxtend.preprocessing import TransactionEncoder\n",
    "from mlxtend.frequent_patterns import fpgrowth, association_rules\n",
    "import pandas as pd"
   ]
  },
  {
   "cell_type": "code",
   "execution_count": 22,
   "metadata": {},
   "outputs": [],
   "source": [
    "data = [['Adult', 'Male', 'Yes'],\n",
    "        ['Adult', 'Female', 'No'],\n",
    "        ['Child', 'Male', 'Yes'],\n",
    "        ['Child', 'Female', 'Yes'],\n",
    "        ['Adult', 'Male', 'No']]"
   ]
  },
  {
   "cell_type": "code",
   "execution_count": 23,
   "metadata": {},
   "outputs": [],
   "source": [
    "df = pd.DataFrame(data, columns=['Age', 'Gender', 'Survived'])\n"
   ]
  },
  {
   "cell_type": "code",
   "execution_count": 24,
   "metadata": {},
   "outputs": [],
   "source": [
    "encoded_data = pd.get_dummies(df)\n"
   ]
  },
  {
   "cell_type": "code",
   "execution_count": 25,
   "metadata": {},
   "outputs": [],
   "source": [
    "frequent_itemsets = fpgrowth(encoded_data, min_support=0.1, use_colnames=True)"
   ]
  },
  {
   "cell_type": "code",
   "execution_count": 26,
   "metadata": {},
   "outputs": [],
   "source": [
    "# Generate association rules with confidence 0.7\n",
    "association_rules_df = association_rules(frequent_itemsets, metric=\"confidence\", min_threshold=0.7)"
   ]
  },
  {
   "cell_type": "code",
   "execution_count": 27,
   "metadata": {},
   "outputs": [],
   "source": [
    "association_rules_df = association_rules_df[association_rules_df['consequents'].apply(lambda x: len(x) == 1 and ('Survived_Yes' in x or 'Survived_No' in x))]"
   ]
  },
  {
   "cell_type": "code",
   "execution_count": 28,
   "metadata": {},
   "outputs": [
    {
     "name": "stdout",
     "output_type": "stream",
     "text": [
      "Frequent Itemsets:\n",
      "    support                                  itemsets\n",
      "0       0.6                            (Survived_Yes)\n",
      "1       0.6                             (Gender_Male)\n",
      "2       0.6                               (Age_Adult)\n",
      "3       0.4                             (Survived_No)\n",
      "4       0.4                           (Gender_Female)\n",
      "5       0.4                               (Age_Child)\n",
      "6       0.4               (Gender_Male, Survived_Yes)\n",
      "7       0.4                  (Age_Adult, Gender_Male)\n",
      "8       0.2                 (Age_Adult, Survived_Yes)\n",
      "9       0.2    (Age_Adult, Gender_Male, Survived_Yes)\n",
      "10      0.4                  (Age_Adult, Survived_No)\n",
      "11      0.2                (Gender_Male, Survived_No)\n",
      "12      0.2     (Age_Adult, Gender_Male, Survived_No)\n",
      "13      0.2              (Gender_Female, Survived_No)\n",
      "14      0.2                (Age_Adult, Gender_Female)\n",
      "15      0.2             (Gender_Female, Survived_Yes)\n",
      "16      0.2   (Age_Adult, Gender_Female, Survived_No)\n",
      "17      0.4                 (Age_Child, Survived_Yes)\n",
      "18      0.2                  (Gender_Male, Age_Child)\n",
      "19      0.2                (Gender_Female, Age_Child)\n",
      "20      0.2    (Gender_Male, Age_Child, Survived_Yes)\n",
      "21      0.2  (Gender_Female, Age_Child, Survived_Yes)\n",
      "\n",
      "Association Rules:\n",
      "                  antecedents     consequents  antecedent support  \\\n",
      "3  (Age_Adult, Gender_Female)   (Survived_No)                 0.2   \n",
      "5                 (Age_Child)  (Survived_Yes)                 0.4   \n",
      "6    (Gender_Male, Age_Child)  (Survived_Yes)                 0.2   \n",
      "7  (Gender_Female, Age_Child)  (Survived_Yes)                 0.2   \n",
      "\n",
      "   consequent support  support  confidence      lift  leverage  conviction  \\\n",
      "3                 0.4      0.2         1.0  2.500000      0.12         inf   \n",
      "5                 0.6      0.4         1.0  1.666667      0.16         inf   \n",
      "6                 0.6      0.2         1.0  1.666667      0.08         inf   \n",
      "7                 0.6      0.2         1.0  1.666667      0.08         inf   \n",
      "\n",
      "   zhangs_metric  \n",
      "3       0.750000  \n",
      "5       0.666667  \n",
      "6       0.500000  \n",
      "7       0.500000  \n"
     ]
    }
   ],
   "source": [
    "# Print the results\n",
    "print(\"Frequent Itemsets:\")\n",
    "print(frequent_itemsets)\n",
    "print(\"\\nAssociation Rules:\")\n",
    "print(association_rules_df)"
   ]
  }
 ],
 "metadata": {
  "kernelspec": {
   "display_name": ".venv",
   "language": "python",
   "name": "python3"
  },
  "language_info": {
   "codemirror_mode": {
    "name": "ipython",
    "version": 3
   },
   "file_extension": ".py",
   "mimetype": "text/x-python",
   "name": "python",
   "nbconvert_exporter": "python",
   "pygments_lexer": "ipython3",
   "version": "3.12.1"
  }
 },
 "nbformat": 4,
 "nbformat_minor": 2
}
