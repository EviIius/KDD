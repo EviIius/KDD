{
 "cells": [
  {
   "cell_type": "code",
   "execution_count": 1,
   "metadata": {},
   "outputs": [
    {
     "ename": "ModuleNotFoundError",
     "evalue": "No module named 'sklearn'",
     "output_type": "error",
     "traceback": [
      "\u001b[0;31m---------------------------------------------------------------------------\u001b[0m",
      "\u001b[0;31mModuleNotFoundError\u001b[0m                       Traceback (most recent call last)",
      "Cell \u001b[0;32mIn[1], line 4\u001b[0m\n\u001b[1;32m      2\u001b[0m \u001b[38;5;28;01mimport\u001b[39;00m \u001b[38;5;21;01mpandas\u001b[39;00m \u001b[38;5;28;01mas\u001b[39;00m \u001b[38;5;21;01mpd\u001b[39;00m\n\u001b[1;32m      3\u001b[0m \u001b[38;5;28;01mimport\u001b[39;00m \u001b[38;5;21;01mnumpy\u001b[39;00m \u001b[38;5;28;01mas\u001b[39;00m \u001b[38;5;21;01mnp\u001b[39;00m\n\u001b[0;32m----> 4\u001b[0m \u001b[38;5;28;01mimport\u001b[39;00m \u001b[38;5;21;01msklearn\u001b[39;00m\u001b[38;5;21;01m.\u001b[39;00m\u001b[38;5;21;01mmetrics\u001b[39;00m \u001b[38;5;28;01mas\u001b[39;00m \u001b[38;5;21;01msk\u001b[39;00m\n\u001b[1;32m      5\u001b[0m \u001b[38;5;28;01mfrom\u001b[39;00m \u001b[38;5;21;01msklearn\u001b[39;00m\u001b[38;5;21;01m.\u001b[39;00m\u001b[38;5;21;01mmetrics\u001b[39;00m\u001b[38;5;21;01m.\u001b[39;00m\u001b[38;5;21;01mpairwise\u001b[39;00m \u001b[38;5;28;01mimport\u001b[39;00m cosine_similarity\n",
      "\u001b[0;31mModuleNotFoundError\u001b[0m: No module named 'sklearn'"
     ]
    }
   ],
   "source": [
    "#Import Packages\n",
    "import pandas as pd\n",
    "import numpy as np\n",
    "import sklearn.metrics as sk\n",
    "from sklearn.metrics.pairwise import cosine_similarity"
   ]
  },
  {
   "cell_type": "code",
   "execution_count": 4,
   "metadata": {},
   "outputs": [
    {
     "name": "stdout",
     "output_type": "stream",
     "text": [
      "    A1   A2\n",
      "0  1.5  1.7\n",
      "1  2.0  1.9\n",
      "2  1.6  1.8\n",
      "3  1.2  1.5\n",
      "4  1.5  1.0\n"
     ]
    }
   ],
   "source": [
    "#Create the data as a DataFrame\n",
    "data = [[1.5,1.7],[2,1.9], [1.6,1.8], [1.2,1.5],[1.5,1]]\n",
    "\n",
    "df = pd.DataFrame(data, columns=['A1', 'A2'])\n",
    "\n",
    "print(df)\n"
   ]
  },
  {
   "cell_type": "code",
   "execution_count": 5,
   "metadata": {},
   "outputs": [
    {
     "name": "stdout",
     "output_type": "stream",
     "text": [
      "Dataframe in numpy\n",
      "[[1.5 1.7]\n",
      " [2.  1.9]\n",
      " [1.6 1.8]\n",
      " [1.2 1.5]\n",
      " [1.5 1. ]]\n",
      "\n",
      "Query = [[1.4 1.6]]\n"
     ]
    }
   ],
   "source": [
    "#Alternative way to manipulate data\n",
    "x=np.array([\n",
    "    [1.5,1.7], #x1 \n",
    "    [2,1.9], #x2\n",
    "    [1.6,1.8], #x3\n",
    "    [1.2,1.5], #x4\n",
    "    [1.5,1] #x5\n",
    "])\n",
    "print('Dataframe in numpy')\n",
    "print(x)\n",
    "print('')\n",
    "\n",
    "y = np.array([[1.4,1.6]])\n",
    "\n",
    "print('Query =', y)"
   ]
  },
  {
   "cell_type": "code",
   "execution_count": 6,
   "metadata": {},
   "outputs": [
    {
     "name": "stdout",
     "output_type": "stream",
     "text": [
      "Cosine - Pairwise\n",
      "[[0.99999139]\n",
      " [0.99575226]\n",
      " [0.99996948]\n",
      " [0.99902823]\n",
      " [0.96536339]]\n",
      "\n",
      "CosineSimilarity\n"
     ]
    },
    {
     "data": {
      "text/plain": [
       "array([[0.99999139],\n",
       "       [0.99575226],\n",
       "       [0.99996948],\n",
       "       [0.99902823],\n",
       "       [0.96536339]])"
      ]
     },
     "execution_count": 6,
     "metadata": {},
     "output_type": "execute_result"
    }
   ],
   "source": [
    "#Pairwise function and Cosine Similarity\n",
    "print(\"Cosine - Pairwise\")\n",
    "pair = 1 - sk.pairwise_distances(x, y, metric=\"cosine\")\n",
    "print(pair)\n",
    "print('')\n",
    "print(\"CosineSimilarity\")\n",
    "cosine_similarity(x,y)"
   ]
  },
  {
   "cell_type": "code",
   "execution_count": 47,
   "metadata": {},
   "outputs": [
    {
     "name": "stdout",
     "output_type": "stream",
     "text": [
      "Cosine Similarity Rankings:\n",
      "   Cosine Similarity\n",
      "0           0.999991\n",
      "1           0.995752\n",
      "2           0.999969\n",
      "3           0.999028\n",
      "4           0.965363\n",
      "Closest to Furthest: 0,2,3,1,4\n"
     ]
    }
   ],
   "source": [
    "#Cleaned up and Ranked\n",
    "import pandas as pd\n",
    "from sklearn.metrics.pairwise import cosine_similarity\n",
    "\n",
    "data = [[1.5, 1.7], [2, 1.9], [1.6, 1.8], [1.2, 1.5], [1.5, 1]]\n",
    "df = pd.DataFrame(data, columns=['A1', 'A2'])\n",
    "\n",
    "query_point = [[1.4, 1.6]]\n",
    "\n",
    "cosine_similarities = cosine_similarity(df, query_point)\n",
    "\n",
    "cosine_sim_df = pd.DataFrame(cosine_similarities, index=df.index, columns=['Cosine Similarity'])\n",
    "\n",
    "ranked_points = cosine_sim_df.sort_values(by='Cosine Similarity', ascending=True) #This is wrong, its just not sorting correctly\n",
    "\n",
    "print(\"Cosine Similarity Rankings:\")\n",
    "print(cosine_sim_df)\n",
    "print('Closest to Furthest: 0,2,3,1,4' )"
   ]
  }
 ],
 "metadata": {
  "kernelspec": {
   "display_name": ".venv",
   "language": "python",
   "name": "python3"
  },
  "language_info": {
   "codemirror_mode": {
    "name": "ipython",
    "version": 3
   },
   "file_extension": ".py",
   "mimetype": "text/x-python",
   "name": "python",
   "nbconvert_exporter": "python",
   "pygments_lexer": "ipython3",
   "version": "3.10.11"
  }
 },
 "nbformat": 4,
 "nbformat_minor": 2
}
