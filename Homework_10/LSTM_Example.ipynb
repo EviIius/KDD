{
 "cells": [
  {
   "cell_type": "code",
   "execution_count": 2,
   "metadata": {},
   "outputs": [],
   "source": [
    "import os\n",
    "import numpy as np\n",
    "import pandas as pd\n",
    "import matplotlib.pyplot as plt"
   ]
  },
  {
   "cell_type": "code",
   "execution_count": 3,
   "metadata": {},
   "outputs": [
    {
     "name": "stdout",
     "output_type": "stream",
     "text": [
      "<class 'pandas.core.frame.DataFrame'>\n",
      "RangeIndex: 1258 entries, 0 to 1257\n",
      "Data columns (total 6 columns):\n",
      " #   Column  Non-Null Count  Dtype  \n",
      "---  ------  --------------  -----  \n",
      " 0   Date    1258 non-null   object \n",
      " 1   Open    1258 non-null   float64\n",
      " 2   High    1258 non-null   float64\n",
      " 3   Low     1258 non-null   float64\n",
      " 4   Close   1258 non-null   float64\n",
      " 5   Volume  1258 non-null   object \n",
      "dtypes: float64(4), object(2)\n",
      "memory usage: 59.1+ KB\n"
     ]
    }
   ],
   "source": [
    "dataset_train = pd.read_csv('Google_Stock_Price_Train.csv')\n",
    "dataset_train.head()\n",
    "dataset_train['Close'] = dataset_train['Close'].str.replace(',', '').astype(float)\n",
    "dataset_train.info()"
   ]
  },
  {
   "cell_type": "code",
   "execution_count": 4,
   "metadata": {},
   "outputs": [
    {
     "name": "stdout",
     "output_type": "stream",
     "text": [
      "[[325.25]\n",
      " [331.27]\n",
      " [329.83]\n",
      " ...\n",
      " [793.7 ]\n",
      " [783.33]\n",
      " [782.75]]\n",
      "(1258, 1)\n"
     ]
    }
   ],
   "source": [
    "training_set = dataset_train.iloc[:, 1:2].values\n",
    "print(training_set)\n",
    "print(training_set.shape)"
   ]
  },
  {
   "cell_type": "code",
   "execution_count": 5,
   "metadata": {},
   "outputs": [
    {
     "data": {
      "text/plain": [
       "array([[0.08581368],\n",
       "       [0.09701243],\n",
       "       [0.09433366],\n",
       "       ...,\n",
       "       [0.95725128],\n",
       "       [0.93796041],\n",
       "       [0.93688146]])"
      ]
     },
     "execution_count": 5,
     "metadata": {},
     "output_type": "execute_result"
    }
   ],
   "source": [
    "from sklearn.preprocessing import MinMaxScaler\n",
    "sc = MinMaxScaler(feature_range = (0, 1))\n",
    "training_set_scaled = sc.fit_transform(training_set)\n",
    "training_set_scaled"
   ]
  },
  {
   "cell_type": "code",
   "execution_count": 6,
   "metadata": {},
   "outputs": [],
   "source": [
    "X_train = []\n",
    "Y_train = []\n",
    "for i in range(60, 1258):\n",
    "    X_train.append(training_set_scaled[i-60:i, 0])\n",
    "    Y_train.append(training_set_scaled[i, 0])\n",
    "X_train, Y_train = np.array(X_train), np.array(Y_train)"
   ]
  },
  {
   "cell_type": "code",
   "execution_count": 7,
   "metadata": {},
   "outputs": [
    {
     "name": "stdout",
     "output_type": "stream",
     "text": [
      "(1198, 60)\n",
      "(1198,)\n"
     ]
    }
   ],
   "source": [
    "print(X_train.shape)\n",
    "print(Y_train.shape)"
   ]
  },
  {
   "cell_type": "code",
   "execution_count": 8,
   "metadata": {},
   "outputs": [
    {
     "name": "stdout",
     "output_type": "stream",
     "text": [
      "(1198, 60, 1)\n"
     ]
    }
   ],
   "source": [
    "X_train = np.reshape(X_train, (X_train.shape[0], X_train.shape[1], 1))\n",
    "print(X_train.shape)"
   ]
  },
  {
   "cell_type": "code",
   "execution_count": 9,
   "metadata": {},
   "outputs": [
    {
     "name": "stderr",
     "output_type": "stream",
     "text": [
      "2024-04-01 12:56:37.598449: I tensorflow/core/platform/cpu_feature_guard.cc:182] This TensorFlow binary is optimized to use available CPU instructions in performance-critical operations.\n",
      "To enable the following instructions: AVX2 FMA, in other operations, rebuild TensorFlow with the appropriate compiler flags.\n"
     ]
    }
   ],
   "source": [
    "from keras.models import Sequential\n",
    "from keras.layers import Dense\n",
    "from keras.layers import LSTM\n",
    "from keras.layers import Dropout"
   ]
  },
  {
   "cell_type": "code",
   "execution_count": 10,
   "metadata": {},
   "outputs": [],
   "source": [
    "regressor = Sequential()\n",
    "\n",
    "regressor.add(LSTM(units = 50, return_sequences = True, input_shape = (X_train.shape[1], 1)))\n",
    "regressor.add(Dropout(0.2))\n",
    "\n",
    "regressor.add(LSTM(units = 50, return_sequences = True))\n",
    "regressor.add(Dropout(0.2))\n",
    "\n",
    "regressor.add(LSTM(units = 50, return_sequences = True))\n",
    "regressor.add(Dropout(0.2))\n",
    "\n",
    "regressor.add(LSTM(units = 50))\n",
    "regressor.add(Dropout(0.2))\n",
    "\n",
    "regressor.add(Dense(units = 1))"
   ]
  },
  {
   "cell_type": "code",
   "execution_count": 11,
   "metadata": {},
   "outputs": [
    {
     "name": "stdout",
     "output_type": "stream",
     "text": [
      "Epoch 1/100\n",
      "38/38 [==============================] - 14s 104ms/step - loss: 0.0431\n",
      "Epoch 2/100\n",
      "38/38 [==============================] - 4s 102ms/step - loss: 0.0078\n",
      "Epoch 3/100\n",
      "38/38 [==============================] - 4s 109ms/step - loss: 0.0053\n",
      "Epoch 4/100\n",
      "38/38 [==============================] - 4s 110ms/step - loss: 0.0055\n",
      "Epoch 5/100\n",
      "38/38 [==============================] - 3s 82ms/step - loss: 0.0051\n",
      "Epoch 6/100\n",
      "38/38 [==============================] - 3s 73ms/step - loss: 0.0048\n",
      "Epoch 7/100\n",
      "38/38 [==============================] - 3s 71ms/step - loss: 0.0047\n",
      "Epoch 8/100\n",
      "38/38 [==============================] - 3s 75ms/step - loss: 0.0043\n",
      "Epoch 9/100\n",
      "38/38 [==============================] - 3s 76ms/step - loss: 0.0046\n",
      "Epoch 10/100\n",
      "38/38 [==============================] - 3s 73ms/step - loss: 0.0049\n",
      "Epoch 11/100\n",
      "38/38 [==============================] - 3s 75ms/step - loss: 0.0044\n",
      "Epoch 12/100\n",
      "38/38 [==============================] - 3s 76ms/step - loss: 0.0042\n",
      "Epoch 13/100\n",
      "38/38 [==============================] - 3s 74ms/step - loss: 0.0040\n",
      "Epoch 14/100\n",
      "38/38 [==============================] - 3s 74ms/step - loss: 0.0043\n",
      "Epoch 15/100\n",
      "38/38 [==============================] - 3s 72ms/step - loss: 0.0037\n",
      "Epoch 16/100\n",
      "38/38 [==============================] - 3s 75ms/step - loss: 0.0041\n",
      "Epoch 17/100\n",
      "38/38 [==============================] - 3s 79ms/step - loss: 0.0041\n",
      "Epoch 18/100\n",
      "38/38 [==============================] - 3s 85ms/step - loss: 0.0037\n",
      "Epoch 19/100\n",
      "38/38 [==============================] - 3s 73ms/step - loss: 0.0037\n",
      "Epoch 20/100\n",
      "38/38 [==============================] - 3s 77ms/step - loss: 0.0037\n",
      "Epoch 21/100\n",
      "38/38 [==============================] - 3s 74ms/step - loss: 0.0032\n",
      "Epoch 22/100\n",
      "38/38 [==============================] - 3s 79ms/step - loss: 0.0032\n",
      "Epoch 23/100\n",
      "38/38 [==============================] - 3s 77ms/step - loss: 0.0035\n",
      "Epoch 24/100\n",
      "38/38 [==============================] - 3s 76ms/step - loss: 0.0034\n",
      "Epoch 25/100\n",
      "38/38 [==============================] - 3s 72ms/step - loss: 0.0032\n",
      "Epoch 26/100\n",
      "38/38 [==============================] - 3s 70ms/step - loss: 0.0032\n",
      "Epoch 27/100\n",
      "38/38 [==============================] - 3s 79ms/step - loss: 0.0029\n",
      "Epoch 28/100\n",
      "38/38 [==============================] - 3s 77ms/step - loss: 0.0030\n",
      "Epoch 29/100\n",
      "38/38 [==============================] - 2s 65ms/step - loss: 0.0039\n",
      "Epoch 30/100\n",
      "38/38 [==============================] - 2s 65ms/step - loss: 0.0032\n",
      "Epoch 31/100\n",
      "38/38 [==============================] - 3s 68ms/step - loss: 0.0030\n",
      "Epoch 32/100\n",
      "38/38 [==============================] - 3s 72ms/step - loss: 0.0035\n",
      "Epoch 33/100\n",
      "38/38 [==============================] - 2s 64ms/step - loss: 0.0032\n",
      "Epoch 34/100\n",
      "38/38 [==============================] - 2s 64ms/step - loss: 0.0029\n",
      "Epoch 35/100\n",
      "38/38 [==============================] - 3s 67ms/step - loss: 0.0027\n",
      "Epoch 36/100\n",
      "38/38 [==============================] - 3s 66ms/step - loss: 0.0027\n",
      "Epoch 37/100\n",
      "38/38 [==============================] - 3s 69ms/step - loss: 0.0028\n",
      "Epoch 38/100\n",
      "38/38 [==============================] - 2s 64ms/step - loss: 0.0027\n",
      "Epoch 39/100\n",
      "38/38 [==============================] - 2s 65ms/step - loss: 0.0030\n",
      "Epoch 40/100\n",
      "38/38 [==============================] - 2s 66ms/step - loss: 0.0027\n",
      "Epoch 41/100\n",
      "38/38 [==============================] - 3s 67ms/step - loss: 0.0027\n",
      "Epoch 42/100\n",
      "38/38 [==============================] - 2s 65ms/step - loss: 0.0028\n",
      "Epoch 43/100\n",
      "38/38 [==============================] - 2s 65ms/step - loss: 0.0026\n",
      "Epoch 44/100\n",
      "38/38 [==============================] - 2s 65ms/step - loss: 0.0023\n",
      "Epoch 45/100\n",
      "38/38 [==============================] - 2s 65ms/step - loss: 0.0027\n",
      "Epoch 46/100\n",
      "38/38 [==============================] - 2s 64ms/step - loss: 0.0027\n",
      "Epoch 47/100\n",
      "38/38 [==============================] - 3s 66ms/step - loss: 0.0026\n",
      "Epoch 48/100\n",
      "38/38 [==============================] - 2s 66ms/step - loss: 0.0023\n",
      "Epoch 49/100\n",
      "38/38 [==============================] - 2s 64ms/step - loss: 0.0025\n",
      "Epoch 50/100\n",
      "38/38 [==============================] - 2s 65ms/step - loss: 0.0025\n",
      "Epoch 51/100\n",
      "38/38 [==============================] - 2s 65ms/step - loss: 0.0025\n",
      "Epoch 52/100\n",
      "38/38 [==============================] - 2s 64ms/step - loss: 0.0022\n",
      "Epoch 53/100\n",
      "38/38 [==============================] - 2s 64ms/step - loss: 0.0025\n",
      "Epoch 54/100\n",
      "38/38 [==============================] - 2s 64ms/step - loss: 0.0022\n",
      "Epoch 55/100\n",
      "38/38 [==============================] - 3s 67ms/step - loss: 0.0025\n",
      "Epoch 56/100\n",
      "38/38 [==============================] - 2s 64ms/step - loss: 0.0021\n",
      "Epoch 57/100\n",
      "38/38 [==============================] - 2s 64ms/step - loss: 0.0022\n",
      "Epoch 58/100\n",
      "38/38 [==============================] - 3s 66ms/step - loss: 0.0024\n",
      "Epoch 59/100\n",
      "38/38 [==============================] - 2s 64ms/step - loss: 0.0021\n",
      "Epoch 60/100\n",
      "38/38 [==============================] - 2s 64ms/step - loss: 0.0020\n",
      "Epoch 61/100\n",
      "38/38 [==============================] - 2s 64ms/step - loss: 0.0019\n",
      "Epoch 62/100\n",
      "38/38 [==============================] - 3s 66ms/step - loss: 0.0021\n",
      "Epoch 63/100\n",
      "38/38 [==============================] - 2s 64ms/step - loss: 0.0019\n",
      "Epoch 64/100\n",
      "38/38 [==============================] - 2s 64ms/step - loss: 0.0021\n",
      "Epoch 65/100\n",
      "38/38 [==============================] - 2s 66ms/step - loss: 0.0020\n",
      "Epoch 66/100\n",
      "38/38 [==============================] - 2s 65ms/step - loss: 0.0018\n",
      "Epoch 67/100\n",
      "38/38 [==============================] - 3s 67ms/step - loss: 0.0019\n",
      "Epoch 68/100\n",
      "38/38 [==============================] - 2s 64ms/step - loss: 0.0019\n",
      "Epoch 69/100\n",
      "38/38 [==============================] - 3s 68ms/step - loss: 0.0019\n",
      "Epoch 70/100\n",
      "38/38 [==============================] - 2s 65ms/step - loss: 0.0023\n",
      "Epoch 71/100\n",
      "38/38 [==============================] - 2s 65ms/step - loss: 0.0018\n",
      "Epoch 72/100\n",
      "38/38 [==============================] - 2s 65ms/step - loss: 0.0016\n",
      "Epoch 73/100\n",
      "38/38 [==============================] - 2s 64ms/step - loss: 0.0023\n",
      "Epoch 74/100\n",
      "38/38 [==============================] - 2s 64ms/step - loss: 0.0020\n",
      "Epoch 75/100\n",
      "38/38 [==============================] - 2s 66ms/step - loss: 0.0018\n",
      "Epoch 76/100\n",
      "38/38 [==============================] - 3s 67ms/step - loss: 0.0018\n",
      "Epoch 77/100\n",
      "38/38 [==============================] - 2s 64ms/step - loss: 0.0016\n",
      "Epoch 78/100\n",
      "38/38 [==============================] - 2s 64ms/step - loss: 0.0017\n",
      "Epoch 79/100\n",
      "38/38 [==============================] - 2s 65ms/step - loss: 0.0018\n",
      "Epoch 80/100\n",
      "38/38 [==============================] - 2s 64ms/step - loss: 0.0020\n",
      "Epoch 81/100\n",
      "38/38 [==============================] - 3s 66ms/step - loss: 0.0016\n",
      "Epoch 82/100\n",
      "38/38 [==============================] - 3s 66ms/step - loss: 0.0016\n",
      "Epoch 83/100\n",
      "38/38 [==============================] - 2s 65ms/step - loss: 0.0017\n",
      "Epoch 84/100\n",
      "38/38 [==============================] - 2s 64ms/step - loss: 0.0016\n",
      "Epoch 85/100\n",
      "38/38 [==============================] - 2s 65ms/step - loss: 0.0015\n",
      "Epoch 86/100\n",
      "38/38 [==============================] - 3s 76ms/step - loss: 0.0015\n",
      "Epoch 87/100\n",
      "38/38 [==============================] - 2s 63ms/step - loss: 0.0015\n",
      "Epoch 88/100\n",
      "38/38 [==============================] - 2s 64ms/step - loss: 0.0016\n",
      "Epoch 89/100\n",
      "38/38 [==============================] - 2s 62ms/step - loss: 0.0016\n",
      "Epoch 90/100\n",
      "38/38 [==============================] - 2s 62ms/step - loss: 0.0018\n",
      "Epoch 91/100\n",
      "38/38 [==============================] - 2s 63ms/step - loss: 0.0015\n",
      "Epoch 92/100\n",
      "38/38 [==============================] - 2s 63ms/step - loss: 0.0013\n",
      "Epoch 93/100\n",
      "38/38 [==============================] - 2s 63ms/step - loss: 0.0015\n",
      "Epoch 94/100\n",
      "38/38 [==============================] - 2s 64ms/step - loss: 0.0015\n",
      "Epoch 95/100\n",
      "38/38 [==============================] - 12s 329ms/step - loss: 0.0016\n",
      "Epoch 96/100\n",
      "38/38 [==============================] - 3s 91ms/step - loss: 0.0016\n",
      "Epoch 97/100\n",
      "38/38 [==============================] - 3s 83ms/step - loss: 0.0017\n",
      "Epoch 98/100\n",
      "38/38 [==============================] - 3s 67ms/step - loss: 0.0015\n",
      "Epoch 99/100\n",
      "38/38 [==============================] - 3s 82ms/step - loss: 0.0014\n",
      "Epoch 100/100\n",
      "38/38 [==============================] - 3s 74ms/step - loss: 0.0015\n"
     ]
    },
    {
     "data": {
      "text/plain": [
       "<keras.src.callbacks.History at 0x14d46e1a0>"
      ]
     },
     "execution_count": 11,
     "metadata": {},
     "output_type": "execute_result"
    }
   ],
   "source": [
    "regressor.compile(optimizer = 'adam', loss = 'mean_squared_error')\n",
    "regressor.fit(X_train, Y_train, epochs = 100, batch_size = 32)"
   ]
  },
  {
   "cell_type": "code",
   "execution_count": 12,
   "metadata": {},
   "outputs": [],
   "source": [
    "dataset_test = pd.read_csv('Google_Stock_Price_Test.csv')\n",
    "real_stock_price = dataset_test.iloc[:, 1:2].values"
   ]
  },
  {
   "cell_type": "code",
   "execution_count": 17,
   "metadata": {},
   "outputs": [
    {
     "data": {
      "text/plain": [
       "80"
      ]
     },
     "execution_count": 17,
     "metadata": {},
     "output_type": "execute_result"
    }
   ],
   "source": [
    "dataset_total = pd.concat((dataset_train['Open'], dataset_test['Open']), axis = 0)\n",
    "inputs = dataset_total[len(dataset_total) - len(dataset_test) - 60:].values\n",
    "\n",
    "inputs = inputs.reshape(-1,1)\n",
    "inputs = sc.transform(inputs)\n",
    "\n",
    "X_test = []\n",
    "for i in range(60, 80):\n",
    "    X_test.append(inputs[i-60:i, 0])\n",
    "X_test = np.array(X_test)\n",
    "X_test = np.reshape(X_test, (X_test.shape[0], X_test.shape[1], 1))\n",
    "\n",
    "len(inputs)"
   ]
  },
  {
   "cell_type": "code",
   "execution_count": 14,
   "metadata": {},
   "outputs": [
    {
     "name": "stdout",
     "output_type": "stream",
     "text": [
      "1/1 [==============================] - 2s 2s/step\n"
     ]
    },
    {
     "data": {
      "text/plain": [
       "array([[781.444  ],\n",
       "       [778.64636],\n",
       "       [778.7018 ],\n",
       "       [779.96893],\n",
       "       [783.26   ],\n",
       "       [789.2654 ],\n",
       "       [795.08954],\n",
       "       [797.9469 ],\n",
       "       [798.8664 ],\n",
       "       [798.9478 ],\n",
       "       [798.71124],\n",
       "       [798.2098 ],\n",
       "       [797.6582 ],\n",
       "       [797.7973 ],\n",
       "       [798.46375],\n",
       "       [802.8461 ],\n",
       "       [809.7922 ],\n",
       "       [817.55444],\n",
       "       [822.24994],\n",
       "       [818.9099 ]], dtype=float32)"
      ]
     },
     "execution_count": 14,
     "metadata": {},
     "output_type": "execute_result"
    }
   ],
   "source": [
    "predicted_stock_price = regressor.predict(X_test)\n",
    "predicted_stock_price = sc.inverse_transform(predicted_stock_price)\n",
    "predicted_stock_price"
   ]
  },
  {
   "cell_type": "code",
   "execution_count": 18,
   "metadata": {},
   "outputs": [
    {
     "data": {
      "image/png": "[encoded data removed]",
      "text/plain": [
       "<Figure size 640x480 with 1 Axes>"
      ]
     },
     "metadata": {},
     "output_type": "display_data"
    }
   ],
   "source": [
    "plt.plot(real_stock_price, color = 'red', label = 'Real Google Stock Price')\n",
    "plt.plot(predicted_stock_price, color = 'blue', label = 'Predicted Google Stock Price')\n",
    "plt.title('Google Stock Price Prediction')\n",
    "plt.xlabel('Time')\n",
    "plt.ylabel('Google Stock Price')\n",
    "plt.legend()\n",
    "plt.show()"
   ]
  }
 ],
 "metadata": {
  "kernelspec": {
   "display_name": ".venv",
   "language": "python",
   "name": "python3"
  },
  "language_info": {
   "codemirror_mode": {
    "name": "ipython",
    "version": 3
   },
   "file_extension": ".py",
   "mimetype": "text/x-python",
   "name": "python",
   "nbconvert_exporter": "python",
   "pygments_lexer": "ipython3",
   "version": "3.10.11"
  }
 },
 "nbformat": 4,
 "nbformat_minor": 2
}
