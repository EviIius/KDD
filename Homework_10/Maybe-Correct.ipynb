{
 "cells": [
  {
   "cell_type": "markdown",
   "metadata": {},
   "source": [
    "# **Homework 10 - LSTM**\n",
    "# KDD Tuesdays 12:30 PM - 2:45 PM\n",
    "## Jake Brulato"
   ]
  },
  {
   "cell_type": "code",
   "execution_count": 1,
   "metadata": {},
   "outputs": [
    {
     "name": "stderr",
     "output_type": "stream",
     "text": [
      "2024-04-01 13:20:19.904387: I tensorflow/core/platform/cpu_feature_guard.cc:182] This TensorFlow binary is optimized to use available CPU instructions in performance-critical operations.\n",
      "To enable the following instructions: AVX2 FMA, in other operations, rebuild TensorFlow with the appropriate compiler flags.\n"
     ]
    }
   ],
   "source": [
    "import numpy as np\n",
    "import pandas as pd\n",
    "import matplotlib.pyplot as plt\n",
    "from tensorflow import keras\n",
    "from tensorflow.keras import layers\n",
    "from keras.models import Sequential\n",
    "from keras.layers import Dense, Dropout, Activation, LSTM\n",
    "from sklearn.preprocessing import MinMaxScaler"
   ]
  },
  {
   "cell_type": "code",
   "execution_count": 2,
   "metadata": {},
   "outputs": [
    {
     "data": {
      "text/html": [
       "<div>\n",
       "<style scoped>\n",
       "    .dataframe tbody tr th:only-of-type {\n",
       "        vertical-align: middle;\n",
       "    }\n",
       "\n",
       "    .dataframe tbody tr th {\n",
       "        vertical-align: top;\n",
       "    }\n",
       "\n",
       "    .dataframe thead th {\n",
       "        text-align: right;\n",
       "    }\n",
       "</style>\n",
       "<table border=\"1\" class=\"dataframe\">\n",
       "  <thead>\n",
       "    <tr style=\"text-align: right;\">\n",
       "      <th></th>\n",
       "      <th>Date</th>\n",
       "      <th>Open</th>\n",
       "      <th>High</th>\n",
       "      <th>Low</th>\n",
       "      <th>Close</th>\n",
       "      <th>Volume</th>\n",
       "    </tr>\n",
       "  </thead>\n",
       "  <tbody>\n",
       "    <tr>\n",
       "      <th>0</th>\n",
       "      <td>1/3/2012</td>\n",
       "      <td>325.25</td>\n",
       "      <td>332.83</td>\n",
       "      <td>324.97</td>\n",
       "      <td>663.59</td>\n",
       "      <td>7,380,500</td>\n",
       "    </tr>\n",
       "    <tr>\n",
       "      <th>1</th>\n",
       "      <td>1/4/2012</td>\n",
       "      <td>331.27</td>\n",
       "      <td>333.87</td>\n",
       "      <td>329.08</td>\n",
       "      <td>666.45</td>\n",
       "      <td>5,749,400</td>\n",
       "    </tr>\n",
       "    <tr>\n",
       "      <th>2</th>\n",
       "      <td>1/5/2012</td>\n",
       "      <td>329.83</td>\n",
       "      <td>330.75</td>\n",
       "      <td>326.89</td>\n",
       "      <td>657.21</td>\n",
       "      <td>6,590,300</td>\n",
       "    </tr>\n",
       "    <tr>\n",
       "      <th>3</th>\n",
       "      <td>1/6/2012</td>\n",
       "      <td>328.34</td>\n",
       "      <td>328.77</td>\n",
       "      <td>323.68</td>\n",
       "      <td>648.24</td>\n",
       "      <td>5,405,900</td>\n",
       "    </tr>\n",
       "    <tr>\n",
       "      <th>4</th>\n",
       "      <td>1/9/2012</td>\n",
       "      <td>322.04</td>\n",
       "      <td>322.29</td>\n",
       "      <td>309.46</td>\n",
       "      <td>620.76</td>\n",
       "      <td>11,688,800</td>\n",
       "    </tr>\n",
       "  </tbody>\n",
       "</table>\n",
       "</div>"
      ],
      "text/plain": [
       "       Date    Open    High     Low   Close      Volume\n",
       "0  1/3/2012  325.25  332.83  324.97  663.59   7,380,500\n",
       "1  1/4/2012  331.27  333.87  329.08  666.45   5,749,400\n",
       "2  1/5/2012  329.83  330.75  326.89  657.21   6,590,300\n",
       "3  1/6/2012  328.34  328.77  323.68  648.24   5,405,900\n",
       "4  1/9/2012  322.04  322.29  309.46  620.76  11,688,800"
      ]
     },
     "execution_count": 2,
     "metadata": {},
     "output_type": "execute_result"
    }
   ],
   "source": [
    "Google_train = pd.read_csv('Google_Stock_Price_Train.csv')\n",
    "Google_test = pd.read_csv('Google_Stock_Price_Test.csv')\n",
    "Google_train.head(5)\n"
   ]
  },
  {
   "cell_type": "code",
   "execution_count": 3,
   "metadata": {},
   "outputs": [
    {
     "data": {
      "text/html": [
       "<div>\n",
       "<style scoped>\n",
       "    .dataframe tbody tr th:only-of-type {\n",
       "        vertical-align: middle;\n",
       "    }\n",
       "\n",
       "    .dataframe tbody tr th {\n",
       "        vertical-align: top;\n",
       "    }\n",
       "\n",
       "    .dataframe thead th {\n",
       "        text-align: right;\n",
       "    }\n",
       "</style>\n",
       "<table border=\"1\" class=\"dataframe\">\n",
       "  <thead>\n",
       "    <tr style=\"text-align: right;\">\n",
       "      <th></th>\n",
       "      <th>Date</th>\n",
       "      <th>Open</th>\n",
       "      <th>High</th>\n",
       "      <th>Low</th>\n",
       "      <th>Close</th>\n",
       "      <th>Volume</th>\n",
       "    </tr>\n",
       "  </thead>\n",
       "  <tbody>\n",
       "    <tr>\n",
       "      <th>1253</th>\n",
       "      <td>12/23/2016</td>\n",
       "      <td>790.90</td>\n",
       "      <td>792.74</td>\n",
       "      <td>787.28</td>\n",
       "      <td>789.91</td>\n",
       "      <td>623,400</td>\n",
       "    </tr>\n",
       "    <tr>\n",
       "      <th>1254</th>\n",
       "      <td>12/27/2016</td>\n",
       "      <td>790.68</td>\n",
       "      <td>797.86</td>\n",
       "      <td>787.66</td>\n",
       "      <td>791.55</td>\n",
       "      <td>789,100</td>\n",
       "    </tr>\n",
       "    <tr>\n",
       "      <th>1255</th>\n",
       "      <td>12/28/2016</td>\n",
       "      <td>793.70</td>\n",
       "      <td>794.23</td>\n",
       "      <td>783.20</td>\n",
       "      <td>785.05</td>\n",
       "      <td>1,153,800</td>\n",
       "    </tr>\n",
       "    <tr>\n",
       "      <th>1256</th>\n",
       "      <td>12/29/2016</td>\n",
       "      <td>783.33</td>\n",
       "      <td>785.93</td>\n",
       "      <td>778.92</td>\n",
       "      <td>782.79</td>\n",
       "      <td>744,300</td>\n",
       "    </tr>\n",
       "    <tr>\n",
       "      <th>1257</th>\n",
       "      <td>12/30/2016</td>\n",
       "      <td>782.75</td>\n",
       "      <td>782.78</td>\n",
       "      <td>770.41</td>\n",
       "      <td>771.82</td>\n",
       "      <td>1,770,000</td>\n",
       "    </tr>\n",
       "  </tbody>\n",
       "</table>\n",
       "</div>"
      ],
      "text/plain": [
       "            Date    Open    High     Low   Close     Volume\n",
       "1253  12/23/2016  790.90  792.74  787.28  789.91    623,400\n",
       "1254  12/27/2016  790.68  797.86  787.66  791.55    789,100\n",
       "1255  12/28/2016  793.70  794.23  783.20  785.05  1,153,800\n",
       "1256  12/29/2016  783.33  785.93  778.92  782.79    744,300\n",
       "1257  12/30/2016  782.75  782.78  770.41  771.82  1,770,000"
      ]
     },
     "execution_count": 3,
     "metadata": {},
     "output_type": "execute_result"
    }
   ],
   "source": [
    "Google_train.tail(5)"
   ]
  },
  {
   "cell_type": "code",
   "execution_count": 4,
   "metadata": {},
   "outputs": [
    {
     "name": "stdout",
     "output_type": "stream",
     "text": [
      "<class 'pandas.core.frame.DataFrame'>\n",
      "RangeIndex: 1258 entries, 0 to 1257\n",
      "Data columns (total 6 columns):\n",
      " #   Column  Non-Null Count  Dtype  \n",
      "---  ------  --------------  -----  \n",
      " 0   Date    1258 non-null   object \n",
      " 1   Open    1258 non-null   float64\n",
      " 2   High    1258 non-null   float64\n",
      " 3   Low     1258 non-null   float64\n",
      " 4   Close   1258 non-null   object \n",
      " 5   Volume  1258 non-null   object \n",
      "dtypes: float64(3), object(3)\n",
      "memory usage: 59.1+ KB\n"
     ]
    }
   ],
   "source": [
    "Google_train.shape\n",
    "Google_train.info()"
   ]
  },
  {
   "cell_type": "code",
   "execution_count": 5,
   "metadata": {},
   "outputs": [
    {
     "data": {
      "text/plain": [
       "array([663.59, 666.45, 657.21, ..., 785.05, 782.79, 771.82])"
      ]
     },
     "execution_count": 5,
     "metadata": {},
     "output_type": "execute_result"
    }
   ],
   "source": [
    "training_set = Google_train.iloc[:, 4:5].values #close price\n",
    "training_set = training_set.astype(str).reshape(-1)\n",
    "training_set = np.array([float(x.replace(',', '')) for x in training_set])\n",
    "training_set\n",
    "\n",
    "\n",
    "\n"
   ]
  },
  {
   "cell_type": "code",
   "execution_count": 6,
   "metadata": {},
   "outputs": [],
   "source": [
    "# # Define the number of consecutive days\n",
    "n_days = 45\n",
    "\n",
    "# # Split the dataset into training and test sets\n",
    "train_data = Google_train.iloc[:, 4:5].values #close price\n",
    "train_data = train_data.astype(str).reshape(-1)\n",
    "train_data = np.array([float(x.replace(',', '')) for x in train_data])\n",
    "\n",
    "test_data = Google_test.iloc[:, 4:5].values #close price\n",
    "test_data = test_data.astype(str).reshape(-1)\n",
    "test_data = np.array([float(x.replace(',', '')) for x in test_data])\n",
    "\n",
    "# # Normalize the data using MinMaxScaler\n",
    "scaler = MinMaxScaler(feature_range=(0, 1))\n",
    "train_data = scaler.fit_transform(train_data.reshape(-1, 1))\n",
    "test_data = scaler.transform(test_data.reshape(-1, 1))\n",
    "\n",
    "\n"
   ]
  },
  {
   "cell_type": "code",
   "execution_count": 7,
   "metadata": {},
   "outputs": [],
   "source": [
    "X_train = []\n",
    "y_train = []\n",
    "for i in range(n_days, len(train_data)):\n",
    "    X_train.append(train_data[i-n_days:i, 0])\n",
    "    y_train.append(train_data[i, 0])\n",
    "X_train = np.array(X_train)\n",
    "y_train = np.array(y_train)"
   ]
  },
  {
   "cell_type": "code",
   "execution_count": 8,
   "metadata": {},
   "outputs": [
    {
     "data": {
      "text/plain": [
       "(1213, 45, 1)"
      ]
     },
     "execution_count": 8,
     "metadata": {},
     "output_type": "execute_result"
    }
   ],
   "source": [
    "X_train = np.reshape(X_train, (X_train.shape[0], X_train.shape[1], 1))\n",
    "X_train.shape\n"
   ]
  },
  {
   "cell_type": "code",
   "execution_count": 16,
   "metadata": {},
   "outputs": [
    {
     "name": "stdout",
     "output_type": "stream",
     "text": [
      "Epoch 1/100\n",
      "38/38 [==============================] - 8s 38ms/step - loss: 0.0251\n",
      "Epoch 2/100\n",
      "38/38 [==============================] - 1s 35ms/step - loss: 0.0082\n",
      "Epoch 3/100\n",
      "38/38 [==============================] - 2s 40ms/step - loss: 0.0070\n",
      "Epoch 4/100\n",
      "38/38 [==============================] - 1s 37ms/step - loss: 0.0071\n",
      "Epoch 5/100\n",
      "38/38 [==============================] - 1s 36ms/step - loss: 0.0059\n",
      "Epoch 6/100\n",
      "38/38 [==============================] - 1s 37ms/step - loss: 0.0056\n",
      "Epoch 7/100\n",
      "38/38 [==============================] - 1s 36ms/step - loss: 0.0048\n",
      "Epoch 8/100\n",
      "38/38 [==============================] - 1s 37ms/step - loss: 0.0046\n",
      "Epoch 9/100\n",
      "38/38 [==============================] - 1s 38ms/step - loss: 0.0044\n",
      "Epoch 10/100\n",
      "38/38 [==============================] - 1s 33ms/step - loss: 0.0039\n",
      "Epoch 11/100\n",
      "38/38 [==============================] - 1s 33ms/step - loss: 0.0043\n",
      "Epoch 12/100\n",
      "38/38 [==============================] - 1s 34ms/step - loss: 0.0040\n",
      "Epoch 13/100\n",
      "38/38 [==============================] - 1s 35ms/step - loss: 0.0050\n",
      "Epoch 14/100\n",
      "38/38 [==============================] - 1s 34ms/step - loss: 0.0040\n",
      "Epoch 15/100\n",
      "38/38 [==============================] - 1s 33ms/step - loss: 0.0036\n",
      "Epoch 16/100\n",
      "38/38 [==============================] - 1s 33ms/step - loss: 0.0036\n",
      "Epoch 17/100\n",
      "38/38 [==============================] - 1s 33ms/step - loss: 0.0035\n",
      "Epoch 18/100\n",
      "38/38 [==============================] - 1s 34ms/step - loss: 0.0038\n",
      "Epoch 19/100\n",
      "38/38 [==============================] - 1s 33ms/step - loss: 0.0032\n",
      "Epoch 20/100\n",
      "38/38 [==============================] - 1s 34ms/step - loss: 0.0032\n",
      "Epoch 21/100\n",
      "38/38 [==============================] - 1s 35ms/step - loss: 0.0033\n",
      "Epoch 22/100\n",
      "38/38 [==============================] - 1s 34ms/step - loss: 0.0031\n",
      "Epoch 23/100\n",
      "38/38 [==============================] - 1s 33ms/step - loss: 0.0035\n",
      "Epoch 24/100\n",
      "38/38 [==============================] - 1s 33ms/step - loss: 0.0028\n",
      "Epoch 25/100\n",
      "38/38 [==============================] - 1s 33ms/step - loss: 0.0035\n",
      "Epoch 26/100\n",
      "38/38 [==============================] - 1s 35ms/step - loss: 0.0032\n",
      "Epoch 27/100\n",
      "38/38 [==============================] - 1s 34ms/step - loss: 0.0031\n",
      "Epoch 28/100\n",
      "38/38 [==============================] - 1s 35ms/step - loss: 0.0031\n",
      "Epoch 29/100\n",
      "38/38 [==============================] - 1s 33ms/step - loss: 0.0027\n",
      "Epoch 30/100\n",
      "38/38 [==============================] - 1s 33ms/step - loss: 0.0030\n",
      "Epoch 31/100\n",
      "38/38 [==============================] - 1s 34ms/step - loss: 0.0028\n",
      "Epoch 32/100\n",
      "38/38 [==============================] - 1s 34ms/step - loss: 0.0027\n",
      "Epoch 33/100\n",
      "38/38 [==============================] - 1s 33ms/step - loss: 0.0029\n",
      "Epoch 34/100\n",
      "38/38 [==============================] - 1s 33ms/step - loss: 0.0026\n",
      "Epoch 35/100\n",
      "38/38 [==============================] - 1s 35ms/step - loss: 0.0027\n",
      "Epoch 36/100\n",
      "38/38 [==============================] - 1s 34ms/step - loss: 0.0025\n",
      "Epoch 37/100\n",
      "38/38 [==============================] - 1s 34ms/step - loss: 0.0026\n",
      "Epoch 38/100\n",
      "38/38 [==============================] - 1s 34ms/step - loss: 0.0023\n",
      "Epoch 39/100\n",
      "38/38 [==============================] - 1s 33ms/step - loss: 0.0025\n",
      "Epoch 40/100\n",
      "38/38 [==============================] - 1s 33ms/step - loss: 0.0023\n",
      "Epoch 41/100\n",
      "38/38 [==============================] - 1s 34ms/step - loss: 0.0021\n",
      "Epoch 42/100\n",
      "38/38 [==============================] - 1s 33ms/step - loss: 0.0022\n",
      "Epoch 43/100\n",
      "38/38 [==============================] - 1s 34ms/step - loss: 0.0022\n",
      "Epoch 44/100\n",
      "38/38 [==============================] - 1s 34ms/step - loss: 0.0020\n",
      "Epoch 45/100\n",
      "38/38 [==============================] - 1s 33ms/step - loss: 0.0022\n",
      "Epoch 46/100\n",
      "38/38 [==============================] - 1s 34ms/step - loss: 0.0023\n",
      "Epoch 47/100\n",
      "38/38 [==============================] - 1s 33ms/step - loss: 0.0025\n",
      "Epoch 48/100\n",
      "38/38 [==============================] - 1s 33ms/step - loss: 0.0025\n",
      "Epoch 49/100\n",
      "38/38 [==============================] - 1s 35ms/step - loss: 0.0021\n",
      "Epoch 50/100\n",
      "38/38 [==============================] - 1s 33ms/step - loss: 0.0021\n",
      "Epoch 51/100\n",
      "38/38 [==============================] - 1s 34ms/step - loss: 0.0020\n",
      "Epoch 52/100\n",
      "38/38 [==============================] - 1s 35ms/step - loss: 0.0020\n",
      "Epoch 53/100\n",
      "38/38 [==============================] - 1s 33ms/step - loss: 0.0021\n",
      "Epoch 54/100\n",
      "38/38 [==============================] - 1s 33ms/step - loss: 0.0019\n",
      "Epoch 55/100\n",
      "38/38 [==============================] - 1s 35ms/step - loss: 0.0019\n",
      "Epoch 56/100\n",
      "38/38 [==============================] - 1s 34ms/step - loss: 0.0019\n",
      "Epoch 57/100\n",
      "38/38 [==============================] - 1s 33ms/step - loss: 0.0017\n",
      "Epoch 58/100\n",
      "38/38 [==============================] - 1s 33ms/step - loss: 0.0019\n",
      "Epoch 59/100\n",
      "38/38 [==============================] - 1s 33ms/step - loss: 0.0025\n",
      "Epoch 60/100\n",
      "38/38 [==============================] - 1s 34ms/step - loss: 0.0016\n",
      "Epoch 61/100\n",
      "38/38 [==============================] - 1s 34ms/step - loss: 0.0016\n",
      "Epoch 62/100\n",
      "38/38 [==============================] - 1s 35ms/step - loss: 0.0017\n",
      "Epoch 63/100\n",
      "38/38 [==============================] - 1s 33ms/step - loss: 0.0017\n",
      "Epoch 64/100\n",
      "38/38 [==============================] - 1s 33ms/step - loss: 0.0018\n",
      "Epoch 65/100\n",
      "38/38 [==============================] - 1s 34ms/step - loss: 0.0020\n",
      "Epoch 66/100\n",
      "38/38 [==============================] - 1s 33ms/step - loss: 0.0014\n",
      "Epoch 67/100\n",
      "38/38 [==============================] - 1s 34ms/step - loss: 0.0016\n",
      "Epoch 68/100\n",
      "38/38 [==============================] - 1s 35ms/step - loss: 0.0016\n",
      "Epoch 69/100\n",
      "38/38 [==============================] - 1s 33ms/step - loss: 0.0018\n",
      "Epoch 70/100\n",
      "38/38 [==============================] - 1s 34ms/step - loss: 0.0016\n",
      "Epoch 71/100\n",
      "38/38 [==============================] - 1s 33ms/step - loss: 0.0017\n",
      "Epoch 72/100\n",
      "38/38 [==============================] - 1s 33ms/step - loss: 0.0014\n",
      "Epoch 73/100\n",
      "38/38 [==============================] - 1s 33ms/step - loss: 0.0016\n",
      "Epoch 74/100\n",
      "38/38 [==============================] - 1s 34ms/step - loss: 0.0015\n",
      "Epoch 75/100\n",
      "38/38 [==============================] - 1s 37ms/step - loss: 0.0015\n",
      "Epoch 76/100\n",
      "38/38 [==============================] - 1s 33ms/step - loss: 0.0016\n",
      "Epoch 77/100\n",
      "38/38 [==============================] - 1s 34ms/step - loss: 0.0015\n",
      "Epoch 78/100\n",
      "38/38 [==============================] - 1s 34ms/step - loss: 0.0014\n",
      "Epoch 79/100\n",
      "38/38 [==============================] - 1s 33ms/step - loss: 0.0016\n",
      "Epoch 80/100\n",
      "38/38 [==============================] - 1s 33ms/step - loss: 0.0017\n",
      "Epoch 81/100\n",
      "38/38 [==============================] - 1s 35ms/step - loss: 0.0016\n",
      "Epoch 82/100\n",
      "38/38 [==============================] - 1s 33ms/step - loss: 0.0017\n",
      "Epoch 83/100\n",
      "38/38 [==============================] - 1s 34ms/step - loss: 0.0015\n",
      "Epoch 84/100\n",
      "38/38 [==============================] - 1s 34ms/step - loss: 0.0017\n",
      "Epoch 85/100\n",
      "38/38 [==============================] - 1s 33ms/step - loss: 0.0016\n",
      "Epoch 86/100\n",
      "38/38 [==============================] - 1s 35ms/step - loss: 0.0015\n",
      "Epoch 87/100\n",
      "38/38 [==============================] - 1s 33ms/step - loss: 0.0013\n",
      "Epoch 88/100\n",
      "38/38 [==============================] - 1s 34ms/step - loss: 0.0013\n",
      "Epoch 89/100\n",
      "38/38 [==============================] - 1s 33ms/step - loss: 0.0017\n",
      "Epoch 90/100\n",
      "38/38 [==============================] - 1s 34ms/step - loss: 0.0014\n",
      "Epoch 91/100\n",
      "38/38 [==============================] - 1s 34ms/step - loss: 0.0016\n",
      "Epoch 92/100\n",
      "38/38 [==============================] - 1s 35ms/step - loss: 0.0015\n",
      "Epoch 93/100\n",
      "38/38 [==============================] - 1s 33ms/step - loss: 0.0015\n",
      "Epoch 94/100\n",
      "38/38 [==============================] - 1s 33ms/step - loss: 0.0015\n",
      "Epoch 95/100\n",
      "38/38 [==============================] - 1s 34ms/step - loss: 0.0012\n",
      "Epoch 96/100\n",
      "38/38 [==============================] - 1s 33ms/step - loss: 0.0016\n",
      "Epoch 97/100\n",
      "38/38 [==============================] - 1s 33ms/step - loss: 0.0014\n",
      "Epoch 98/100\n",
      "38/38 [==============================] - 1s 35ms/step - loss: 0.0014\n",
      "Epoch 99/100\n",
      "38/38 [==============================] - 1s 34ms/step - loss: 0.0015\n",
      "Epoch 100/100\n",
      "38/38 [==============================] - 1s 34ms/step - loss: 0.0014\n"
     ]
    }
   ],
   "source": [
    "model = Sequential()\n",
    "model.add(LSTM(units=30, return_sequences=True, input_shape=(X_train.shape[1], 1)))\n",
    "model.add(Dropout(0.1))\n",
    "model.add(LSTM(units=30, return_sequences=True))\n",
    "model.add(Dropout(0.1))\n",
    "model.add(LSTM(units=30))\n",
    "model.add(Dropout(0.1))\n",
    "model.add(Dense(units=1))\n",
    "\n",
    "model.compile(optimizer='adam', loss='mean_squared_error')\n",
    "\n",
    "history = model.fit(X_train, y_train,\n",
    "                    batch_size=32,\n",
    "                    epochs=100, verbose=1)\n"
   ]
  },
  {
   "cell_type": "code",
   "execution_count": 17,
   "metadata": {},
   "outputs": [],
   "source": [
    "dataset_total = pd.concat((Google_train['Close'], Google_test['Close']), axis=0)\n",
    "inputs = dataset_total[len(dataset_total) - len(Google_test) - n_days:].values\n",
    "\n",
    "inputs = inputs.reshape(-1,1)\n",
    "inputs = scaler.transform(inputs)\n",
    "\n",
    "X_test = []\n",
    "for i in range(n_days, n_days + len(Google_test)):\n",
    "    X_test.append(inputs[i-n_days:i, 0])\n",
    "X_test = np.array(X_test)\n",
    "X_test = np.reshape(X_test, (X_test.shape[0], X_test.shape[1], 1))\n"
   ]
  },
  {
   "cell_type": "code",
   "execution_count": 18,
   "metadata": {},
   "outputs": [
    {
     "name": "stdout",
     "output_type": "stream",
     "text": [
      "1/1 [==============================] - 1s 1s/step\n"
     ]
    }
   ],
   "source": [
    "predicted_stock_price = model.predict(X_test)\n",
    "predicted_stock_price = scaler.inverse_transform(predicted_stock_price)"
   ]
  },
  {
   "cell_type": "code",
   "execution_count": 19,
   "metadata": {},
   "outputs": [
    {
     "name": "stdout",
     "output_type": "stream",
     "text": [
      "1/1 [==============================] - 0s 71ms/step\n",
      "[[777.37616]\n",
      " [778.11255]\n",
      " [781.5641 ]\n",
      " [787.2004 ]\n",
      " [796.18713]\n",
      " [802.859  ]\n",
      " [804.8946 ]\n",
      " [805.65344]\n",
      " [805.0448 ]\n",
      " [804.8289 ]\n",
      " [803.52466]\n",
      " [803.0507 ]\n",
      " [801.55396]\n",
      " [801.59143]\n",
      " [808.3228 ]\n",
      " [816.6125 ]\n",
      " [826.87244]\n",
      " [831.8143 ]\n",
      " [828.5625 ]\n",
      " [814.6653 ]]\n"
     ]
    }
   ],
   "source": [
    "predicted_stock_price = model.predict(X_test)\n",
    "predicted_stock_price = scaler.inverse_transform(predicted_stock_price)\n",
    "\n",
    "print(predicted_stock_price)\n"
   ]
  },
  {
   "cell_type": "code",
   "execution_count": 20,
   "metadata": {},
   "outputs": [
    {
     "data": {
      "image/png": "[encoded data removed]",
      "text/plain": [
       "<Figure size 640x480 with 1 Axes>"
      ]
     },
     "metadata": {},
     "output_type": "display_data"
    }
   ],
   "source": [
    "plt.plot(Google_test['Close'], color = 'red', label = 'Real Google Stock Price')\n",
    "plt.plot(predicted_stock_price, color = 'blue', label = 'Predicted Google Stock Price')\n",
    "plt.title('Google Stock Price Prediction')\n",
    "plt.xlabel('Time')\n",
    "plt.ylabel('Google Stock Price')\n",
    "plt.legend()\n",
    "plt.show()"
   ]
  }
 ],
 "metadata": {
  "kernelspec": {
   "display_name": ".venv",
   "language": "python",
   "name": "python3"
  },
  "language_info": {
   "codemirror_mode": {
    "name": "ipython",
    "version": 3
   },
   "file_extension": ".py",
   "mimetype": "text/x-python",
   "name": "python",
   "nbconvert_exporter": "python",
   "pygments_lexer": "ipython3",
   "version": "3.10.11"
  }
 },
 "nbformat": 4,
 "nbformat_minor": 2
}
