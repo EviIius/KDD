{
 "cells": [
  {
   "cell_type": "markdown",
   "metadata": {},
   "source": [
    "# **Homework 10 - LSTM**\n",
    "# KDD Tuesdays 12:30 PM - 2:45 PM\n",
    "## Jake Brulato"
   ]
  },
  {
   "cell_type": "code",
   "execution_count": 125,
   "metadata": {},
   "outputs": [],
   "source": [
    "import numpy as np\n",
    "import pandas as pd\n",
    "import matplotlib.pyplot as plt\n",
    "from tensorflow import keras\n",
    "from tensorflow.keras import layers\n",
    "from keras.models import Sequential\n",
    "from keras.layers import Dense, Dropout, Activation, LSTM\n",
    "from sklearn.preprocessing import MinMaxScaler"
   ]
  },
  {
   "cell_type": "code",
   "execution_count": 126,
   "metadata": {},
   "outputs": [
    {
     "name": "stdout",
     "output_type": "stream",
     "text": [
      "<class 'pandas.core.frame.DataFrame'>\n",
      "RangeIndex: 1258 entries, 0 to 1257\n",
      "Data columns (total 6 columns):\n",
      " #   Column  Non-Null Count  Dtype  \n",
      "---  ------  --------------  -----  \n",
      " 0   Date    1258 non-null   object \n",
      " 1   Open    1258 non-null   float64\n",
      " 2   High    1258 non-null   float64\n",
      " 3   Low     1258 non-null   float64\n",
      " 4   Close   1258 non-null   float64\n",
      " 5   Volume  1258 non-null   object \n",
      "dtypes: float64(4), object(2)\n",
      "memory usage: 59.1+ KB\n"
     ]
    }
   ],
   "source": [
    "dataset_train = pd.read_csv('Google_Stock_Price_Train.csv')\n",
    "dataset_train.head()\n",
    "dataset_train['Close'] = dataset_train['Close'].str.replace(',', '').astype(float)\n",
    "dataset_train.info()\n"
   ]
  },
  {
   "cell_type": "code",
   "execution_count": 127,
   "metadata": {},
   "outputs": [
    {
     "name": "stdout",
     "output_type": "stream",
     "text": [
      "[[663.59]\n",
      " [666.45]\n",
      " [657.21]\n",
      " ...\n",
      " [785.05]\n",
      " [782.79]\n",
      " [771.82]]\n",
      "(1258, 1)\n"
     ]
    }
   ],
   "source": [
    "training_set = dataset_train.iloc[:, 4:5].values\n",
    "print(training_set)\n",
    "print(training_set.shape)"
   ]
  },
  {
   "cell_type": "code",
   "execution_count": 128,
   "metadata": {},
   "outputs": [
    {
     "data": {
      "text/plain": [
       "array([[0.23757287],\n",
       "       [0.24151427],\n",
       "       [0.22878051],\n",
       "       ...,\n",
       "       [0.40495845],\n",
       "       [0.40184391],\n",
       "       [0.38672602]])"
      ]
     },
     "execution_count": 128,
     "metadata": {},
     "output_type": "execute_result"
    }
   ],
   "source": [
    "from sklearn.preprocessing import MinMaxScaler\n",
    "sc = MinMaxScaler(feature_range = (0, 1))\n",
    "training_set_scaled = sc.fit_transform(training_set)\n",
    "training_set_scaled"
   ]
  },
  {
   "cell_type": "code",
   "execution_count": 129,
   "metadata": {},
   "outputs": [],
   "source": [
    "X_train = []\n",
    "Y_train = []\n",
    "for i in range(45, 1258):\n",
    "    X_train.append(training_set_scaled[i-45:i, 0])\n",
    "    Y_train.append(training_set_scaled[i, 0])\n",
    "X_train, Y_train = np.array(X_train), np.array(Y_train)"
   ]
  },
  {
   "cell_type": "code",
   "execution_count": 130,
   "metadata": {},
   "outputs": [
    {
     "name": "stdout",
     "output_type": "stream",
     "text": [
      "(1213, 45)\n",
      "(1213,)\n"
     ]
    }
   ],
   "source": [
    "print(X_train.shape)\n",
    "print(Y_train.shape)"
   ]
  },
  {
   "cell_type": "code",
   "execution_count": 131,
   "metadata": {},
   "outputs": [
    {
     "name": "stdout",
     "output_type": "stream",
     "text": [
      "(1213, 45, 1)\n"
     ]
    }
   ],
   "source": [
    "X_train = np.reshape(X_train, (X_train.shape[0], X_train.shape[1], 1))\n",
    "print(X_train.shape)"
   ]
  },
  {
   "cell_type": "code",
   "execution_count": 132,
   "metadata": {},
   "outputs": [],
   "source": [
    "from keras.models import Sequential\n",
    "from keras.layers import Dense\n",
    "from keras.layers import LSTM\n",
    "from keras.layers import Dropout"
   ]
  },
  {
   "cell_type": "code",
   "execution_count": 133,
   "metadata": {},
   "outputs": [],
   "source": [
    "model = Sequential()\n",
    "\n",
    "# First LSTM layer with dropout\n",
    "model.add(LSTM(units=30, return_sequences=True, input_shape=(X_train.shape[1], 1)))\n",
    "model.add(Dropout(0.1))\n",
    "\n",
    "# Second LSTM layer with dropout\n",
    "model.add(LSTM(units=30, return_sequences=True))\n",
    "model.add(Dropout(0.1))\n",
    "\n",
    "# Third LSTM layer with dropout\n",
    "model.add(LSTM(units=30))\n",
    "model.add(Dropout(0.1))\n",
    "\n",
    "# Output layer\n",
    "model.add(Dense(units=1))\n",
    "\n",
    "# Compile the model\n",
    "model.compile(optimizer='adam', loss='mean_squared_error')\n"
   ]
  },
  {
   "cell_type": "code",
   "execution_count": 134,
   "metadata": {},
   "outputs": [
    {
     "name": "stdout",
     "output_type": "stream",
     "text": [
      "Epoch 1/100\n"
     ]
    },
    {
     "name": "stdout",
     "output_type": "stream",
     "text": [
      "38/38 [==============================] - 8s 34ms/step - loss: 0.0268\n",
      "Epoch 2/100\n",
      "38/38 [==============================] - 1s 35ms/step - loss: 0.0092\n",
      "Epoch 3/100\n",
      "38/38 [==============================] - 1s 36ms/step - loss: 0.0074\n",
      "Epoch 4/100\n",
      "38/38 [==============================] - 1s 34ms/step - loss: 0.0061\n",
      "Epoch 5/100\n",
      "38/38 [==============================] - 1s 35ms/step - loss: 0.0053\n",
      "Epoch 6/100\n",
      "38/38 [==============================] - 1s 35ms/step - loss: 0.0054\n",
      "Epoch 7/100\n",
      "38/38 [==============================] - 1s 39ms/step - loss: 0.0053\n",
      "Epoch 8/100\n",
      "38/38 [==============================] - 1s 39ms/step - loss: 0.0046\n",
      "Epoch 9/100\n",
      "38/38 [==============================] - 1s 32ms/step - loss: 0.0045\n",
      "Epoch 10/100\n",
      "38/38 [==============================] - 1s 34ms/step - loss: 0.0042\n",
      "Epoch 11/100\n",
      "38/38 [==============================] - 1s 33ms/step - loss: 0.0033\n",
      "Epoch 12/100\n",
      "38/38 [==============================] - 1s 33ms/step - loss: 0.0041\n",
      "Epoch 13/100\n",
      "38/38 [==============================] - 1s 33ms/step - loss: 0.0041\n",
      "Epoch 14/100\n",
      "38/38 [==============================] - 1s 33ms/step - loss: 0.0039\n",
      "Epoch 15/100\n",
      "38/38 [==============================] - 1s 32ms/step - loss: 0.0038\n",
      "Epoch 16/100\n",
      "38/38 [==============================] - 1s 32ms/step - loss: 0.0041\n",
      "Epoch 17/100\n",
      "38/38 [==============================] - 1s 34ms/step - loss: 0.0033\n",
      "Epoch 18/100\n",
      "38/38 [==============================] - 1s 32ms/step - loss: 0.0039\n",
      "Epoch 19/100\n",
      "38/38 [==============================] - 1s 32ms/step - loss: 0.0037\n",
      "Epoch 20/100\n",
      "38/38 [==============================] - 1s 32ms/step - loss: 0.0036\n",
      "Epoch 21/100\n",
      "38/38 [==============================] - 1s 32ms/step - loss: 0.0031\n",
      "Epoch 22/100\n",
      "38/38 [==============================] - 1s 31ms/step - loss: 0.0037\n",
      "Epoch 23/100\n",
      "38/38 [==============================] - 1s 32ms/step - loss: 0.0029\n",
      "Epoch 24/100\n",
      "38/38 [==============================] - 1s 32ms/step - loss: 0.0033\n",
      "Epoch 25/100\n",
      "38/38 [==============================] - 1s 32ms/step - loss: 0.0031\n",
      "Epoch 26/100\n",
      "38/38 [==============================] - 1s 34ms/step - loss: 0.0031\n",
      "Epoch 27/100\n",
      "38/38 [==============================] - 1s 32ms/step - loss: 0.0029\n",
      "Epoch 28/100\n",
      "38/38 [==============================] - 1s 32ms/step - loss: 0.0030\n",
      "Epoch 29/100\n",
      "38/38 [==============================] - 1s 32ms/step - loss: 0.0032\n",
      "Epoch 30/100\n",
      "38/38 [==============================] - 1s 32ms/step - loss: 0.0033\n",
      "Epoch 31/100\n",
      "38/38 [==============================] - 1s 32ms/step - loss: 0.0025\n",
      "Epoch 32/100\n",
      "38/38 [==============================] - 1s 32ms/step - loss: 0.0026\n",
      "Epoch 33/100\n",
      "38/38 [==============================] - 1s 32ms/step - loss: 0.0026\n",
      "Epoch 34/100\n",
      "38/38 [==============================] - 1s 33ms/step - loss: 0.0031\n",
      "Epoch 35/100\n",
      "38/38 [==============================] - 1s 32ms/step - loss: 0.0027\n",
      "Epoch 36/100\n",
      "38/38 [==============================] - 1s 32ms/step - loss: 0.0025\n",
      "Epoch 37/100\n",
      "38/38 [==============================] - 1s 32ms/step - loss: 0.0023\n",
      "Epoch 38/100\n",
      "38/38 [==============================] - 1s 32ms/step - loss: 0.0022\n",
      "Epoch 39/100\n",
      "38/38 [==============================] - 1s 32ms/step - loss: 0.0021\n",
      "Epoch 40/100\n",
      "38/38 [==============================] - 1s 31ms/step - loss: 0.0026\n",
      "Epoch 41/100\n",
      "38/38 [==============================] - 1s 32ms/step - loss: 0.0023\n",
      "Epoch 42/100\n",
      "38/38 [==============================] - 1s 33ms/step - loss: 0.0027\n",
      "Epoch 43/100\n",
      "38/38 [==============================] - 1s 32ms/step - loss: 0.0019\n",
      "Epoch 44/100\n",
      "38/38 [==============================] - 1s 32ms/step - loss: 0.0023\n",
      "Epoch 45/100\n",
      "38/38 [==============================] - 1s 32ms/step - loss: 0.0023\n",
      "Epoch 46/100\n",
      "38/38 [==============================] - 1s 32ms/step - loss: 0.0024\n",
      "Epoch 47/100\n",
      "38/38 [==============================] - 1s 32ms/step - loss: 0.0024\n",
      "Epoch 48/100\n",
      "38/38 [==============================] - 1s 32ms/step - loss: 0.0023\n",
      "Epoch 49/100\n",
      "38/38 [==============================] - 1s 33ms/step - loss: 0.0019\n",
      "Epoch 50/100\n",
      "38/38 [==============================] - 1s 32ms/step - loss: 0.0020\n",
      "Epoch 51/100\n",
      "38/38 [==============================] - 1s 32ms/step - loss: 0.0021\n",
      "Epoch 52/100\n",
      "38/38 [==============================] - 1s 31ms/step - loss: 0.0021\n",
      "Epoch 53/100\n",
      "38/38 [==============================] - 1s 31ms/step - loss: 0.0019\n",
      "Epoch 54/100\n",
      "38/38 [==============================] - 1s 32ms/step - loss: 0.0022\n",
      "Epoch 55/100\n",
      "38/38 [==============================] - 1s 32ms/step - loss: 0.0021\n",
      "Epoch 56/100\n",
      "38/38 [==============================] - 1s 33ms/step - loss: 0.0021\n",
      "Epoch 57/100\n",
      "38/38 [==============================] - 1s 31ms/step - loss: 0.0019\n",
      "Epoch 58/100\n",
      "38/38 [==============================] - 1s 32ms/step - loss: 0.0021\n",
      "Epoch 59/100\n",
      "38/38 [==============================] - 1s 32ms/step - loss: 0.0016\n",
      "Epoch 60/100\n",
      "38/38 [==============================] - 1s 33ms/step - loss: 0.0017\n",
      "Epoch 61/100\n",
      "38/38 [==============================] - 1s 32ms/step - loss: 0.0019\n",
      "Epoch 62/100\n",
      "38/38 [==============================] - 1s 33ms/step - loss: 0.0019\n",
      "Epoch 63/100\n",
      "38/38 [==============================] - 1s 33ms/step - loss: 0.0019\n",
      "Epoch 64/100\n",
      "38/38 [==============================] - 1s 32ms/step - loss: 0.0017\n",
      "Epoch 65/100\n",
      "38/38 [==============================] - 1s 32ms/step - loss: 0.0017\n",
      "Epoch 66/100\n",
      "38/38 [==============================] - 1s 32ms/step - loss: 0.0017\n",
      "Epoch 67/100\n",
      "38/38 [==============================] - 1s 32ms/step - loss: 0.0017\n",
      "Epoch 68/100\n",
      "38/38 [==============================] - 1s 33ms/step - loss: 0.0017\n",
      "Epoch 69/100\n",
      "38/38 [==============================] - 1s 32ms/step - loss: 0.0017\n",
      "Epoch 70/100\n",
      "38/38 [==============================] - 1s 34ms/step - loss: 0.0016\n",
      "Epoch 71/100\n",
      "38/38 [==============================] - 1s 32ms/step - loss: 0.0015\n",
      "Epoch 72/100\n",
      "38/38 [==============================] - 1s 32ms/step - loss: 0.0017\n",
      "Epoch 73/100\n",
      "38/38 [==============================] - 1s 32ms/step - loss: 0.0018\n",
      "Epoch 74/100\n",
      "38/38 [==============================] - 1s 31ms/step - loss: 0.0018\n",
      "Epoch 75/100\n",
      "38/38 [==============================] - 1s 32ms/step - loss: 0.0015\n",
      "Epoch 76/100\n",
      "38/38 [==============================] - 1s 32ms/step - loss: 0.0019\n",
      "Epoch 77/100\n",
      "38/38 [==============================] - 1s 33ms/step - loss: 0.0019\n",
      "Epoch 78/100\n",
      "38/38 [==============================] - 1s 31ms/step - loss: 0.0016\n",
      "Epoch 79/100\n",
      "38/38 [==============================] - 1s 32ms/step - loss: 0.0018\n",
      "Epoch 80/100\n",
      "38/38 [==============================] - 1s 32ms/step - loss: 0.0015\n",
      "Epoch 81/100\n",
      "38/38 [==============================] - 1s 32ms/step - loss: 0.0014\n",
      "Epoch 82/100\n",
      "38/38 [==============================] - 1s 37ms/step - loss: 0.0017\n",
      "Epoch 83/100\n",
      "38/38 [==============================] - 1s 38ms/step - loss: 0.0016\n",
      "Epoch 84/100\n",
      "38/38 [==============================] - 1s 37ms/step - loss: 0.0015\n",
      "Epoch 85/100\n",
      "38/38 [==============================] - 1s 38ms/step - loss: 0.0015\n",
      "Epoch 86/100\n",
      "38/38 [==============================] - 2s 41ms/step - loss: 0.0015\n",
      "Epoch 87/100\n",
      "38/38 [==============================] - 2s 44ms/step - loss: 0.0014\n",
      "Epoch 88/100\n",
      "38/38 [==============================] - 1s 37ms/step - loss: 0.0013\n",
      "Epoch 89/100\n",
      "38/38 [==============================] - 1s 39ms/step - loss: 0.0015\n",
      "Epoch 90/100\n",
      "38/38 [==============================] - 1s 37ms/step - loss: 0.0017\n",
      "Epoch 91/100\n",
      "38/38 [==============================] - 1s 39ms/step - loss: 0.0016\n",
      "Epoch 92/100\n",
      "38/38 [==============================] - 1s 36ms/step - loss: 0.0016\n",
      "Epoch 93/100\n",
      "38/38 [==============================] - 1s 38ms/step - loss: 0.0015\n",
      "Epoch 94/100\n",
      "38/38 [==============================] - 1s 40ms/step - loss: 0.0014\n",
      "Epoch 95/100\n",
      "38/38 [==============================] - 1s 36ms/step - loss: 0.0014\n",
      "Epoch 96/100\n",
      "38/38 [==============================] - 1s 35ms/step - loss: 0.0014\n",
      "Epoch 97/100\n",
      "38/38 [==============================] - 1s 36ms/step - loss: 0.0014\n",
      "Epoch 98/100\n",
      "38/38 [==============================] - 1s 34ms/step - loss: 0.0012\n",
      "Epoch 99/100\n",
      "38/38 [==============================] - 1s 34ms/step - loss: 0.0017\n",
      "Epoch 100/100\n",
      "38/38 [==============================] - 1s 34ms/step - loss: 0.0013\n"
     ]
    },
    {
     "data": {
      "text/plain": [
       "<keras.src.callbacks.History at 0x1596fbd30>"
      ]
     },
     "execution_count": 134,
     "metadata": {},
     "output_type": "execute_result"
    }
   ],
   "source": [
    "model.fit(X_train, Y_train, batch_size=32, epochs=100)\n"
   ]
  },
  {
   "cell_type": "code",
   "execution_count": 135,
   "metadata": {},
   "outputs": [],
   "source": [
    "dataset_test = pd.read_csv('Google_Stock_Price_Test.csv')\n",
    "actual_stock_price = dataset_test.iloc[:, 4:5].values"
   ]
  },
  {
   "cell_type": "code",
   "execution_count": 136,
   "metadata": {},
   "outputs": [],
   "source": [
    "dataset_total = pd.concat((dataset_train['Close'], dataset_test['Close']), axis = 0)\n",
    "inputs = dataset_total[len(dataset_total) - len(dataset_test) - 45:].values\n",
    "\n",
    "inputs = inputs.reshape(-1,1)\n",
    "inputs = sc.transform(inputs)\n",
    "\n",
    "X_test = []\n",
    "for i in range(45, len(inputs)):\n",
    "    X_test.append(inputs[i-45:i, 0])\n",
    "X_test = np.array(X_test)\n",
    "X_test = np.reshape(X_test, (X_test.shape[0], X_test.shape[1], 1))"
   ]
  },
  {
   "cell_type": "code",
   "execution_count": 137,
   "metadata": {},
   "outputs": [
    {
     "name": "stdout",
     "output_type": "stream",
     "text": [
      "WARNING:tensorflow:5 out of the last 11 calls to <function Model.make_predict_function.<locals>.predict_function at 0x159570160> triggered tf.function retracing. Tracing is expensive and the excessive number of tracings could be due to (1) creating @tf.function repeatedly in a loop, (2) passing tensors with different shapes, (3) passing Python objects instead of tensors. For (1), please define your @tf.function outside of the loop. For (2), @tf.function has reduce_retracing=True option that can avoid unnecessary retracing. For (3), please refer to https://www.tensorflow.org/guide/function#controlling_retracing and https://www.tensorflow.org/api_docs/python/tf/function for  more details.\n",
      "1/1 [==============================] - 1s 1s/step\n",
      "[781.74176]\n",
      "[781.98883]\n",
      "[785.2931]\n",
      "[790.8674]\n",
      "[799.50995]\n",
      "[806.2237]\n",
      "[808.394]\n",
      "[808.8016]\n",
      "[807.8475]\n",
      "[807.2871]\n",
      "[805.9976]\n",
      "[805.5188]\n",
      "[804.2988]\n",
      "[804.4035]\n",
      "[810.5889]\n",
      "[818.8022]\n",
      "[828.88525]\n",
      "[834.21985]\n",
      "[831.52094]\n",
      "[818.41766]\n"
     ]
    }
   ],
   "source": [
    "predicted_stock_price = model.predict(X_test)\n",
    "predicted_stock_price = sc.inverse_transform(predicted_stock_price)\n",
    "for i in range(20):\n",
    "    print(predicted_stock_price[i])\n"
   ]
  },
  {
   "cell_type": "code",
   "execution_count": 138,
   "metadata": {},
   "outputs": [
    {
     "data": {
      "image/png": "[encoded data removed]",
      "text/plain": [
       "<Figure size 640x480 with 1 Axes>"
      ]
     },
     "metadata": {},
     "output_type": "display_data"
    }
   ],
   "source": [
    "plt.plot(actual_stock_price, color = 'red', label = 'Real Google Stock Price')\n",
    "plt.plot(predicted_stock_price, color = 'blue', label = 'Predicted Google Stock Price')\n",
    "plt.title('Google Stock Price Prediction')\n",
    "plt.xlabel('Time')\n",
    "plt.ylabel('Google Stock Price')\n",
    "plt.legend()\n",
    "plt.show()"
   ]
  }
 ],
 "metadata": {
  "kernelspec": {
   "display_name": ".venv",
   "language": "python",
   "name": "python3"
  },
  "language_info": {
   "codemirror_mode": {
    "name": "ipython",
    "version": 3
   },
   "file_extension": ".py",
   "mimetype": "text/x-python",
   "name": "python",
   "nbconvert_exporter": "python",
   "pygments_lexer": "ipython3",
   "version": "3.10.11"
  }
 },
 "nbformat": 4,
 "nbformat_minor": 2
}
