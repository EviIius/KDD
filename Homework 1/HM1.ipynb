{
 "cells": [
  {
   "cell_type": "code",
   "execution_count": 3,
   "metadata": {},
   "outputs": [],
   "source": [
    "import pandas as pd\n",
    "import numpy as np\n",
    "import sklearn.metrics as sk\n",
    "from sklearn.metrics.pairwise import cosine_similarity"
   ]
  },
  {
   "cell_type": "code",
   "execution_count": 4,
   "metadata": {},
   "outputs": [
    {
     "name": "stdout",
     "output_type": "stream",
     "text": [
      "    A1   A2\n",
      "0  1.5  1.7\n",
      "1  2.0  1.9\n",
      "2  1.6  1.8\n",
      "3  1.2  1.5\n",
      "4  1.5  1.0\n"
     ]
    }
   ],
   "source": [
    "data = [[1.5,1.7],[2,1.9], [1.6,1.8], [1.2,1.5],[1.5,1]]\n",
    "\n",
    "df = pd.DataFrame(data, columns=['A1', 'A2'])\n",
    "\n",
    "print(df)\n"
   ]
  },
  {
   "cell_type": "code",
   "execution_count": 5,
   "metadata": {},
   "outputs": [
    {
     "name": "stdout",
     "output_type": "stream",
     "text": [
      "[[1.4 1.6]]\n"
     ]
    }
   ],
   "source": [
    "x=np.array([\n",
    "    [1.5,1.7], #x1 \n",
    "    [2,1.9], #x2\n",
    "    [1.6,1.8], #x3\n",
    "    [1.2,1.5], #x4\n",
    "    [1.5,1] #x5\n",
    "])\n",
    "\n",
    "y = np.array([[1.4,1.6]])\n",
    "\n",
    "print(y)"
   ]
  },
  {
   "cell_type": "code",
   "execution_count": 6,
   "metadata": {},
   "outputs": [
    {
     "name": "stdout",
     "output_type": "stream",
     "text": [
      "Pairwise\n",
      "[[8.60855604e-06]\n",
      " [4.24773875e-03]\n",
      " [3.05161812e-05]\n",
      " [9.71765062e-04]\n",
      " [3.46366070e-02]]\n",
      "\n",
      "CosineSimilarity\n"
     ]
    },
    {
     "data": {
      "text/plain": [
       "array([[0.99999139],\n",
       "       [0.99575226],\n",
       "       [0.99996948],\n",
       "       [0.99902823],\n",
       "       [0.96536339]])"
      ]
     },
     "execution_count": 6,
     "metadata": {},
     "output_type": "execute_result"
    }
   ],
   "source": [
    "print(\"Pairwise\")\n",
    "pair = sk.pairwise_distances(x, y, metric=\"cosine\")\n",
    "print(pair)\n",
    "print('')\n",
    "print(\"CosineSimilarity\")\n",
    "cosine_similarity(x,y)\n"
   ]
  },
  {
   "cell_type": "code",
   "execution_count": 7,
   "metadata": {},
   "outputs": [
    {
     "name": "stdout",
     "output_type": "stream",
     "text": [
      "Cosine Similarity Rankings:\n",
      "   Cosine Similarity\n",
      "0           0.999991\n",
      "2           0.999969\n",
      "3           0.999028\n",
      "1           0.995752\n",
      "4           0.965363\n"
     ]
    }
   ],
   "source": [
    "import pandas as pd\n",
    "from sklearn.metrics.pairwise import cosine_similarity\n",
    "\n",
    "# Given data\n",
    "data = [[1.5, 1.7], [2, 1.9], [1.6, 1.8], [1.2, 1.5], [1.5, 1]]\n",
    "df = pd.DataFrame(data, columns=['A1', 'A2'])\n",
    "\n",
    "# Query point\n",
    "query_point = [[1.4, 1.6]]\n",
    "\n",
    "# Calculate cosine similarity using sklearn.metrics.pairwise.cosine_similarity\n",
    "cosine_similarities = cosine_similarity(df, query_point)\n",
    "\n",
    "# Convert the result to a pandas DataFrame for better display\n",
    "cosine_sim_df = pd.DataFrame(cosine_similarities, index=df.index, columns=['Cosine Similarity'])\n",
    "\n",
    "# Rank the database points based on similarity with the query\n",
    "ranked_points = cosine_sim_df.sort_values(by='Cosine Similarity', ascending=False)\n",
    "\n",
    "# Display the ranked points\n",
    "print(\"Cosine Similarity Rankings:\")\n",
    "print(ranked_points)"
   ]
  }
 ],
 "metadata": {
  "kernelspec": {
   "display_name": ".venv",
   "language": "python",
   "name": "python3"
  },
  "language_info": {
   "codemirror_mode": {
    "name": "ipython",
    "version": 3
   },
   "file_extension": ".py",
   "mimetype": "text/x-python",
   "name": "python",
   "nbconvert_exporter": "python",
   "pygments_lexer": "ipython3",
   "version": "3.12.1"
  }
 },
 "nbformat": 4,
 "nbformat_minor": 2
}
