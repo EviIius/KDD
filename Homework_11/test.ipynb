{
 "cells": [
  {
   "cell_type": "code",
   "execution_count": 2,
   "metadata": {},
   "outputs": [
    {
     "name": "stdout",
     "output_type": "stream",
     "text": [
      "Embedding for 'deep': [ 0.31445   1.2024    0.066651 -0.20096  -0.049636  0.66882  -0.049386\n",
      "  0.44174   0.1799   -0.10196  -0.43674   0.12076  -0.12495   0.43378\n",
      " -0.87784   0.010281  0.54592  -0.28928  -0.46115  -0.32058  -0.69094\n",
      "  0.49733   0.40657  -0.90062   0.69699  -1.1536   -0.12229   1.0657\n",
      "  0.93207   0.20439   3.3004    0.14223   0.46493   0.075359 -0.56755\n",
      "  0.30769  -1.1251   -0.37871   0.57479  -0.12629   0.13589   0.10633\n",
      "  0.058432  0.40321   0.10243   0.12004   0.41383   0.051987 -0.5835\n",
      " -1.1159  ]\n",
      "Embedding for 'text': [ 0.32615    0.36686   -0.0074905 -0.37553    0.66715    0.21646\n",
      " -0.19801   -1.1001    -0.42221    0.10574   -0.31292    0.50953\n",
      "  0.55775    0.12019    0.31441   -0.25043   -1.0637    -1.3213\n",
      "  0.87798   -0.24627    0.27379   -0.51092    0.49324    0.52243\n",
      "  1.1636    -0.75323   -0.48053   -0.11259   -0.54595   -0.83921\n",
      "  2.9825    -1.1916    -0.51958   -0.39365   -0.1419    -0.026977\n",
      "  0.66296    0.16574   -1.1681     0.14443    1.6305    -0.17216\n",
      " -0.17436   -0.01049   -0.17794    0.93076    1.0381     0.94266\n",
      " -0.14805   -0.61109  ]\n"
     ]
    }
   ],
   "source": [
    "import numpy as np\n",
    "\n",
    "def load_glove_embeddings(file_path):\n",
    "    \"\"\"\n",
    "    Load GloVe embeddings from a file and return a dictionary mapping words to their embeddings.\n",
    "\n",
    "    :param file_path: Path to the GloVe embeddings file.\n",
    "    :return: Dictionary of word embeddings.\n",
    "    \"\"\"\n",
    "    embeddings_dict = {}\n",
    "    with open(file_path, 'r', encoding='utf-8') as file:\n",
    "        for line in file:\n",
    "            values = line.split()\n",
    "            word = values[0]\n",
    "            vector = np.asarray(values[1:], dtype='float32')\n",
    "            embeddings_dict[word] = vector\n",
    "    return embeddings_dict\n",
    "\n",
    "def get_embeddings_for_words(words, embeddings_dict):\n",
    "    \"\"\"\n",
    "    Get embeddings for specified words from the embeddings dictionary.\n",
    "\n",
    "    :param words: List of words to get embeddings for.\n",
    "    :param embeddings_dict: Dictionary of word embeddings.\n",
    "    :return: Dictionary of specified words and their embeddings.\n",
    "    \"\"\"\n",
    "    word_embeddings = {word: embeddings_dict.get(word, None) for word in words}\n",
    "    return word_embeddings\n",
    "\n",
    "# Assuming the GloVe file is named 'glove.6B.50d.txt' and located in the same directory\n",
    "glove_file_path = 'glove.6B.50d.txt'\n",
    "\n",
    "# Load the GloVe embeddings into a dictionary\n",
    "embeddings = load_glove_embeddings(glove_file_path)\n",
    "\n",
    "# Specify the words for which you want the embeddings\n",
    "words = [\"I\", \"love\", \"deep\", \"learning\", \"and\", \"text\", \"mining\"]\n",
    "\n",
    "# Get the embeddings for the specified words\n",
    "word_embeddings = get_embeddings_for_words(words, embeddings)\n",
    "\n",
    "# Print the embeddings for \"deep\" and \"text\"\n",
    "print(\"Embedding for 'deep':\", word_embeddings[\"deep\"])\n",
    "print(\"Embedding for 'text':\", word_embeddings[\"text\"])\n"
   ]
  }
 ],
 "metadata": {
  "kernelspec": {
   "display_name": ".venv",
   "language": "python",
   "name": "python3"
  },
  "language_info": {
   "codemirror_mode": {
    "name": "ipython",
    "version": 3
   },
   "file_extension": ".py",
   "mimetype": "text/x-python",
   "name": "python",
   "nbconvert_exporter": "python",
   "pygments_lexer": "ipython3",
   "version": "3.10.11"
  }
 },
 "nbformat": 4,
 "nbformat_minor": 2
}
