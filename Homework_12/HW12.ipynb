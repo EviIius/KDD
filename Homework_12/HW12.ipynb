{
 "cells": [
  {
   "cell_type": "markdown",
   "metadata": {},
   "source": [
    "# **Homework 12 - Bert LLM**\n",
    "# KDD Tuesdays 12:30 PM - 2:45 PM\n",
    "## Jake Brulato"
   ]
  },
  {
   "cell_type": "markdown",
   "metadata": {},
   "source": [
    "## **Extract Data from SNLI Tar file**"
   ]
  },
  {
   "cell_type": "code",
   "execution_count": 1,
   "metadata": {},
   "outputs": [
    {
     "data": {
      "text/plain": [
       "['SNLI_Corpus']"
      ]
     },
     "execution_count": 1,
     "metadata": {},
     "output_type": "execute_result"
    }
   ],
   "source": [
    "import tarfile\n",
    "import pandas as pd\n",
    "import os\n",
    "\n",
    "# Extract the SNLI dataset\n",
    "tar_path = 'SNLI_Corpus.tar.gz'\n",
    "extract_path = 'SNLI_Corpus'\n",
    "with tarfile.open(tar_path, \"r:gz\") as tar:\n",
    "    tar.extractall(path=extract_path)\n",
    "\n",
    "# List files in the extracted directory\n",
    "os.listdir(extract_path)\n"
   ]
  },
  {
   "cell_type": "code",
   "execution_count": 2,
   "metadata": {},
   "outputs": [
    {
     "data": {
      "text/plain": [
       "['snli_1.0_dev.csv', 'snli_1.0_test.csv', 'snli_1.0_train.csv']"
      ]
     },
     "execution_count": 2,
     "metadata": {},
     "output_type": "execute_result"
    }
   ],
   "source": [
    "# List files inside the SNLI_Corpus folder\n",
    "os.listdir(os.path.join(extract_path, 'SNLI_Corpus'))"
   ]
  },
  {
   "cell_type": "markdown",
   "metadata": {},
   "source": [
    "## **Assign the listed files to Train and Validation Data**"
   ]
  },
  {
   "cell_type": "code",
   "execution_count": 3,
   "metadata": {},
   "outputs": [
    {
     "data": {
      "text/html": [
       "<div>\n",
       "<style scoped>\n",
       "    .dataframe tbody tr th:only-of-type {\n",
       "        vertical-align: middle;\n",
       "    }\n",
       "\n",
       "    .dataframe tbody tr th {\n",
       "        vertical-align: top;\n",
       "    }\n",
       "\n",
       "    .dataframe thead th {\n",
       "        text-align: right;\n",
       "    }\n",
       "</style>\n",
       "<table border=\"1\" class=\"dataframe\">\n",
       "  <thead>\n",
       "    <tr style=\"text-align: right;\">\n",
       "      <th></th>\n",
       "      <th>similarity</th>\n",
       "      <th>sentence1</th>\n",
       "      <th>sentence2</th>\n",
       "    </tr>\n",
       "  </thead>\n",
       "  <tbody>\n",
       "    <tr>\n",
       "      <th>0</th>\n",
       "      <td>neutral</td>\n",
       "      <td>A person on a horse jumps over a broken down a...</td>\n",
       "      <td>A person is training his horse for a competition.</td>\n",
       "    </tr>\n",
       "    <tr>\n",
       "      <th>1</th>\n",
       "      <td>contradiction</td>\n",
       "      <td>A person on a horse jumps over a broken down a...</td>\n",
       "      <td>A person is at a diner, ordering an omelette.</td>\n",
       "    </tr>\n",
       "    <tr>\n",
       "      <th>2</th>\n",
       "      <td>entailment</td>\n",
       "      <td>A person on a horse jumps over a broken down a...</td>\n",
       "      <td>A person is outdoors, on a horse.</td>\n",
       "    </tr>\n",
       "    <tr>\n",
       "      <th>3</th>\n",
       "      <td>neutral</td>\n",
       "      <td>Children smiling and waving at camera</td>\n",
       "      <td>They are smiling at their parents</td>\n",
       "    </tr>\n",
       "    <tr>\n",
       "      <th>4</th>\n",
       "      <td>entailment</td>\n",
       "      <td>Children smiling and waving at camera</td>\n",
       "      <td>There are children present</td>\n",
       "    </tr>\n",
       "  </tbody>\n",
       "</table>\n",
       "</div>"
      ],
      "text/plain": [
       "      similarity                                          sentence1  \\\n",
       "0        neutral  A person on a horse jumps over a broken down a...   \n",
       "1  contradiction  A person on a horse jumps over a broken down a...   \n",
       "2     entailment  A person on a horse jumps over a broken down a...   \n",
       "3        neutral              Children smiling and waving at camera   \n",
       "4     entailment              Children smiling and waving at camera   \n",
       "\n",
       "                                           sentence2  \n",
       "0  A person is training his horse for a competition.  \n",
       "1      A person is at a diner, ordering an omelette.  \n",
       "2                  A person is outdoors, on a horse.  \n",
       "3                  They are smiling at their parents  \n",
       "4                         There are children present  "
      ]
     },
     "execution_count": 3,
     "metadata": {},
     "output_type": "execute_result"
    }
   ],
   "source": [
    "# Load training and development data\n",
    "train_path = os.path.join(extract_path, 'SNLI_Corpus', 'snli_1.0_train.csv')\n",
    "dev_path = os.path.join(extract_path, 'SNLI_Corpus', 'snli_1.0_dev.csv')\n",
    "\n",
    "train_df = pd.read_csv(train_path)\n",
    "dev_df = pd.read_csv(dev_path)\n",
    "\n",
    "# Preview the training data\n",
    "train_df.head()"
   ]
  },
  {
   "cell_type": "markdown",
   "metadata": {},
   "source": [
    "## **Filter for 10,000 Samples**"
   ]
  },
  {
   "cell_type": "code",
   "execution_count": 4,
   "metadata": {},
   "outputs": [
    {
     "data": {
      "text/plain": [
       "((10000, 4),\n",
       "       similarity                                          sentence1  \\\n",
       " 0        neutral  A person on a horse jumps over a broken down a...   \n",
       " 1  contradiction  A person on a horse jumps over a broken down a...   \n",
       " 2     entailment  A person on a horse jumps over a broken down a...   \n",
       " 3        neutral              Children smiling and waving at camera   \n",
       " 4     entailment              Children smiling and waving at camera   \n",
       " \n",
       "                                            sentence2  label  \n",
       " 0  A person is training his horse for a competition.      2  \n",
       " 1      A person is at a diner, ordering an omelette.      1  \n",
       " 2                  A person is outdoors, on a horse.      0  \n",
       " 3                  They are smiling at their parents      2  \n",
       " 4                         There are children present      0  )"
      ]
     },
     "execution_count": 4,
     "metadata": {},
     "output_type": "execute_result"
    }
   ],
   "source": [
    "# Filter the data for valid labels and limit to the first 10,000 samples\n",
    "valid_labels = ['entailment', 'contradiction', 'neutral']\n",
    "train_df = train_df[train_df['similarity'].isin(valid_labels)].head(10000)\n",
    "\n",
    "# Encode labels as categorical integers\n",
    "label_mapping = {'entailment': 0, 'contradiction': 1, 'neutral': 2}\n",
    "train_df['label'] = train_df['similarity'].map(label_mapping)\n",
    "\n",
    "# Check the size of the filtered training data and display the first few rows\n",
    "train_df.shape, train_df.head()"
   ]
  },
  {
   "cell_type": "markdown",
   "metadata": {},
   "source": [
    "## **Check to see if Tensorflow and Transformers are installed**"
   ]
  },
  {
   "cell_type": "code",
   "execution_count": 5,
   "metadata": {},
   "outputs": [
    {
     "name": "stdout",
     "output_type": "stream",
     "text": [
      "Requirement already satisfied: tensorflow in /Users/jakebrulato/Documents/GitHub/KDD/.venv/lib/python3.10/site-packages (2.15.0)\n",
      "Requirement already satisfied: transformers in /Users/jakebrulato/Documents/GitHub/KDD/.venv/lib/python3.10/site-packages (4.38.1)\n",
      "Requirement already satisfied: absl-py>=1.0.0 in /Users/jakebrulato/Documents/GitHub/KDD/.venv/lib/python3.10/site-packages (from tensorflow) (2.1.0)\n",
      "Requirement already satisfied: astunparse>=1.6.0 in /Users/jakebrulato/Documents/GitHub/KDD/.venv/lib/python3.10/site-packages (from tensorflow) (1.6.3)\n",
      "Requirement already satisfied: flatbuffers>=23.5.26 in /Users/jakebrulato/Documents/GitHub/KDD/.venv/lib/python3.10/site-packages (from tensorflow) (23.5.26)\n",
      "Requirement already satisfied: gast!=0.5.0,!=0.5.1,!=0.5.2,>=0.2.1 in /Users/jakebrulato/Documents/GitHub/KDD/.venv/lib/python3.10/site-packages (from tensorflow) (0.5.4)\n",
      "Requirement already satisfied: google-pasta>=0.1.1 in /Users/jakebrulato/Documents/GitHub/KDD/.venv/lib/python3.10/site-packages (from tensorflow) (0.2.0)\n",
      "Requirement already satisfied: h5py>=2.9.0 in /Users/jakebrulato/Documents/GitHub/KDD/.venv/lib/python3.10/site-packages (from tensorflow) (3.10.0)\n",
      "Requirement already satisfied: libclang>=13.0.0 in /Users/jakebrulato/Documents/GitHub/KDD/.venv/lib/python3.10/site-packages (from tensorflow) (16.0.6)\n",
      "Requirement already satisfied: ml-dtypes~=0.2.0 in /Users/jakebrulato/Documents/GitHub/KDD/.venv/lib/python3.10/site-packages (from tensorflow) (0.2.0)\n",
      "Requirement already satisfied: numpy<2.0.0,>=1.23.5 in /Users/jakebrulato/Documents/GitHub/KDD/.venv/lib/python3.10/site-packages (from tensorflow) (1.23.5)\n",
      "Requirement already satisfied: opt-einsum>=2.3.2 in /Users/jakebrulato/Documents/GitHub/KDD/.venv/lib/python3.10/site-packages (from tensorflow) (3.3.0)\n",
      "Requirement already satisfied: packaging in /Users/jakebrulato/Documents/GitHub/KDD/.venv/lib/python3.10/site-packages (from tensorflow) (23.2)\n",
      "Requirement already satisfied: protobuf!=4.21.0,!=4.21.1,!=4.21.2,!=4.21.3,!=4.21.4,!=4.21.5,<5.0.0dev,>=3.20.3 in /Users/jakebrulato/Documents/GitHub/KDD/.venv/lib/python3.10/site-packages (from tensorflow) (4.25.3)\n",
      "Requirement already satisfied: setuptools in /Users/jakebrulato/Documents/GitHub/KDD/.venv/lib/python3.10/site-packages (from tensorflow) (65.5.0)\n",
      "Requirement already satisfied: six>=1.12.0 in /Users/jakebrulato/Documents/GitHub/KDD/.venv/lib/python3.10/site-packages (from tensorflow) (1.16.0)\n",
      "Requirement already satisfied: termcolor>=1.1.0 in /Users/jakebrulato/Documents/GitHub/KDD/.venv/lib/python3.10/site-packages (from tensorflow) (2.4.0)\n",
      "Requirement already satisfied: typing-extensions>=3.6.6 in /Users/jakebrulato/Documents/GitHub/KDD/.venv/lib/python3.10/site-packages (from tensorflow) (4.10.0)\n",
      "Requirement already satisfied: wrapt<1.15,>=1.11.0 in /Users/jakebrulato/Documents/GitHub/KDD/.venv/lib/python3.10/site-packages (from tensorflow) (1.14.1)\n",
      "Requirement already satisfied: tensorflow-io-gcs-filesystem>=0.23.1 in /Users/jakebrulato/Documents/GitHub/KDD/.venv/lib/python3.10/site-packages (from tensorflow) (0.36.0)\n",
      "Requirement already satisfied: grpcio<2.0,>=1.24.3 in /Users/jakebrulato/Documents/GitHub/KDD/.venv/lib/python3.10/site-packages (from tensorflow) (1.62.0)\n",
      "Requirement already satisfied: tensorboard<2.16,>=2.15 in /Users/jakebrulato/Documents/GitHub/KDD/.venv/lib/python3.10/site-packages (from tensorflow) (2.15.2)\n",
      "Requirement already satisfied: tensorflow-estimator<2.16,>=2.15.0 in /Users/jakebrulato/Documents/GitHub/KDD/.venv/lib/python3.10/site-packages (from tensorflow) (2.15.0)\n",
      "Requirement already satisfied: keras<2.16,>=2.15.0 in /Users/jakebrulato/Documents/GitHub/KDD/.venv/lib/python3.10/site-packages (from tensorflow) (2.15.0)\n",
      "Requirement already satisfied: filelock in /Users/jakebrulato/Documents/GitHub/KDD/.venv/lib/python3.10/site-packages (from transformers) (3.13.1)\n",
      "Requirement already satisfied: huggingface-hub<1.0,>=0.19.3 in /Users/jakebrulato/Documents/GitHub/KDD/.venv/lib/python3.10/site-packages (from transformers) (0.21.1)\n",
      "Requirement already satisfied: pyyaml>=5.1 in /Users/jakebrulato/Documents/GitHub/KDD/.venv/lib/python3.10/site-packages (from transformers) (6.0.1)\n",
      "Requirement already satisfied: regex!=2019.12.17 in /Users/jakebrulato/Documents/GitHub/KDD/.venv/lib/python3.10/site-packages (from transformers) (2023.12.25)\n",
      "Requirement already satisfied: requests in /Users/jakebrulato/Documents/GitHub/KDD/.venv/lib/python3.10/site-packages (from transformers) (2.31.0)\n",
      "Requirement already satisfied: tokenizers<0.19,>=0.14 in /Users/jakebrulato/Documents/GitHub/KDD/.venv/lib/python3.10/site-packages (from transformers) (0.15.2)\n",
      "Requirement already satisfied: safetensors>=0.4.1 in /Users/jakebrulato/Documents/GitHub/KDD/.venv/lib/python3.10/site-packages (from transformers) (0.4.2)\n",
      "Requirement already satisfied: tqdm>=4.27 in /Users/jakebrulato/Documents/GitHub/KDD/.venv/lib/python3.10/site-packages (from transformers) (4.66.2)\n",
      "Requirement already satisfied: wheel<1.0,>=0.23.0 in /Users/jakebrulato/Documents/GitHub/KDD/.venv/lib/python3.10/site-packages (from astunparse>=1.6.0->tensorflow) (0.42.0)\n",
      "Requirement already satisfied: fsspec>=2023.5.0 in /Users/jakebrulato/Documents/GitHub/KDD/.venv/lib/python3.10/site-packages (from huggingface-hub<1.0,>=0.19.3->transformers) (2024.2.0)\n",
      "Requirement already satisfied: google-auth<3,>=1.6.3 in /Users/jakebrulato/Documents/GitHub/KDD/.venv/lib/python3.10/site-packages (from tensorboard<2.16,>=2.15->tensorflow) (2.28.1)\n",
      "Requirement already satisfied: google-auth-oauthlib<2,>=0.5 in /Users/jakebrulato/Documents/GitHub/KDD/.venv/lib/python3.10/site-packages (from tensorboard<2.16,>=2.15->tensorflow) (1.2.0)\n",
      "Requirement already satisfied: markdown>=2.6.8 in /Users/jakebrulato/Documents/GitHub/KDD/.venv/lib/python3.10/site-packages (from tensorboard<2.16,>=2.15->tensorflow) (3.5.2)\n",
      "Requirement already satisfied: tensorboard-data-server<0.8.0,>=0.7.0 in /Users/jakebrulato/Documents/GitHub/KDD/.venv/lib/python3.10/site-packages (from tensorboard<2.16,>=2.15->tensorflow) (0.7.2)\n",
      "Requirement already satisfied: werkzeug>=1.0.1 in /Users/jakebrulato/Documents/GitHub/KDD/.venv/lib/python3.10/site-packages (from tensorboard<2.16,>=2.15->tensorflow) (3.0.1)\n",
      "Requirement already satisfied: charset-normalizer<4,>=2 in /Users/jakebrulato/Documents/GitHub/KDD/.venv/lib/python3.10/site-packages (from requests->transformers) (3.3.2)\n",
      "Requirement already satisfied: idna<4,>=2.5 in /Users/jakebrulato/Documents/GitHub/KDD/.venv/lib/python3.10/site-packages (from requests->transformers) (3.6)\n",
      "Requirement already satisfied: urllib3<3,>=1.21.1 in /Users/jakebrulato/Documents/GitHub/KDD/.venv/lib/python3.10/site-packages (from requests->transformers) (2.2.1)\n",
      "Requirement already satisfied: certifi>=2017.4.17 in /Users/jakebrulato/Documents/GitHub/KDD/.venv/lib/python3.10/site-packages (from requests->transformers) (2024.2.2)\n",
      "Requirement already satisfied: cachetools<6.0,>=2.0.0 in /Users/jakebrulato/Documents/GitHub/KDD/.venv/lib/python3.10/site-packages (from google-auth<3,>=1.6.3->tensorboard<2.16,>=2.15->tensorflow) (5.3.3)\n",
      "Requirement already satisfied: pyasn1-modules>=0.2.1 in /Users/jakebrulato/Documents/GitHub/KDD/.venv/lib/python3.10/site-packages (from google-auth<3,>=1.6.3->tensorboard<2.16,>=2.15->tensorflow) (0.3.0)\n",
      "Requirement already satisfied: rsa<5,>=3.1.4 in /Users/jakebrulato/Documents/GitHub/KDD/.venv/lib/python3.10/site-packages (from google-auth<3,>=1.6.3->tensorboard<2.16,>=2.15->tensorflow) (4.9)\n",
      "Requirement already satisfied: requests-oauthlib>=0.7.0 in /Users/jakebrulato/Documents/GitHub/KDD/.venv/lib/python3.10/site-packages (from google-auth-oauthlib<2,>=0.5->tensorboard<2.16,>=2.15->tensorflow) (1.3.1)\n",
      "Requirement already satisfied: MarkupSafe>=2.1.1 in /Users/jakebrulato/Documents/GitHub/KDD/.venv/lib/python3.10/site-packages (from werkzeug>=1.0.1->tensorboard<2.16,>=2.15->tensorflow) (2.1.5)\n",
      "Requirement already satisfied: pyasn1<0.6.0,>=0.4.6 in /Users/jakebrulato/Documents/GitHub/KDD/.venv/lib/python3.10/site-packages (from pyasn1-modules>=0.2.1->google-auth<3,>=1.6.3->tensorboard<2.16,>=2.15->tensorflow) (0.5.1)\n",
      "Requirement already satisfied: oauthlib>=3.0.0 in /Users/jakebrulato/Documents/GitHub/KDD/.venv/lib/python3.10/site-packages (from requests-oauthlib>=0.7.0->google-auth-oauthlib<2,>=0.5->tensorboard<2.16,>=2.15->tensorflow) (3.2.2)\n",
      "Note: you may need to restart the kernel to use updated packages.\n"
     ]
    }
   ],
   "source": [
    "pip install tensorflow transformers"
   ]
  },
  {
   "cell_type": "markdown",
   "metadata": {},
   "source": [
    "## **Map the loaded datasets and then tokenize from the pre-trained bert-base-uncased**"
   ]
  },
  {
   "cell_type": "code",
   "execution_count": 6,
   "metadata": {},
   "outputs": [
    {
     "name": "stderr",
     "output_type": "stream",
     "text": [
      "/Users/jakebrulato/Documents/GitHub/KDD/.venv/lib/python3.10/site-packages/tqdm/auto.py:21: TqdmWarning: IProgress not found. Please update jupyter and ipywidgets. See https://ipywidgets.readthedocs.io/en/stable/user_install.html\n",
      "  from .autonotebook import tqdm as notebook_tqdm\n",
      "Truncation was not explicitly activated but `max_length` is provided a specific value, please use `truncation=True` to explicitly truncate examples to max length. Defaulting to 'longest_first' truncation strategy. If you encode pairs of sequences (GLUE-style) with the tokenizer you can select this strategy more precisely by providing a specific strategy to `truncation`.\n",
      "/Users/jakebrulato/Documents/GitHub/KDD/.venv/lib/python3.10/site-packages/transformers/tokenization_utils_base.py:2645: FutureWarning: The `pad_to_max_length` argument is deprecated and will be removed in a future version, use `padding=True` or `padding='longest'` to pad to the longest sequence in the batch, or use `padding='max_length'` to pad to a max length. In this case, you can give a specific length with `max_length` (e.g. `max_length=45`) or leave max_length to None to pad to the maximal input size of the model (e.g. 512 for Bert).\n",
      "  warnings.warn(\n",
      "2024-04-16 13:45:04.246259: I tensorflow/core/platform/cpu_feature_guard.cc:182] This TensorFlow binary is optimized to use available CPU instructions in performance-critical operations.\n",
      "To enable the following instructions: AVX2 FMA, in other operations, rebuild TensorFlow with the appropriate compiler flags.\n",
      "/Users/jakebrulato/Documents/GitHub/KDD/.venv/lib/python3.10/site-packages/transformers/tokenization_utils_base.py:2645: FutureWarning: The `pad_to_max_length` argument is deprecated and will be removed in a future version, use `padding=True` or `padding='longest'` to pad to the longest sequence in the batch, or use `padding='max_length'` to pad to a max length. In this case, you can give a specific length with `max_length` (e.g. `max_length=45`) or leave max_length to None to pad to the maximal input size of the model (e.g. 512 for Bert).\n",
      "  warnings.warn(\n"
     ]
    }
   ],
   "source": [
    "import pandas as pd\n",
    "from transformers import BertTokenizer\n",
    "from sklearn.model_selection import train_test_split\n",
    "\n",
    "# Load the dataset\n",
    "train_df = pd.read_csv('/Users/jakebrulato/Documents/GitHub/KDD/Homework_12/SNLI_Corpus/SNLI_Corpus/snli_1.0_train.csv')\n",
    "train_df = train_df[train_df['similarity'].isin(['entailment', 'contradiction', 'neutral'])].head(10000)\n",
    "\n",
    "# Map labels to integers\n",
    "label_mapping = {'entailment': 0, 'contradiction': 1, 'neutral': 2}\n",
    "train_df['label'] = train_df['similarity'].map(label_mapping)\n",
    "\n",
    "# Tokenization\n",
    "tokenizer = BertTokenizer.from_pretrained('bert-base-uncased')\n",
    "def bert_encode(sentences, max_len=128):\n",
    "    input_ids = []\n",
    "    attention_masks = []\n",
    "\n",
    "    for sent in sentences:\n",
    "        encoded_dict = tokenizer.encode_plus(\n",
    "            sent, add_special_tokens=True, max_length=max_len, pad_to_max_length=True,\n",
    "            return_attention_mask=True, return_tensors='tf')\n",
    "        input_ids.append(encoded_dict['input_ids'])\n",
    "        attention_masks.append(encoded_dict['attention_mask'])\n",
    "\n",
    "    return input_ids, attention_masks\n",
    "\n",
    "sentence1 = bert_encode(train_df['sentence1'].values)\n",
    "sentence2 = bert_encode(train_df['sentence2'].values)\n",
    "labels = train_df['label'].values\n"
   ]
  },
  {
   "cell_type": "markdown",
   "metadata": {},
   "source": [
    "## **Create the BiLSTM Layer and Classifer for model**"
   ]
  },
  {
   "cell_type": "code",
   "execution_count": 7,
   "metadata": {},
   "outputs": [
    {
     "name": "stderr",
     "output_type": "stream",
     "text": [
      "Some weights of the PyTorch model were not used when initializing the TF 2.0 model TFBertModel: ['cls.predictions.transform.dense.bias', 'cls.predictions.transform.dense.weight', 'cls.seq_relationship.bias', 'cls.predictions.transform.LayerNorm.bias', 'cls.predictions.bias', 'cls.seq_relationship.weight', 'cls.predictions.transform.LayerNorm.weight']\n",
      "- This IS expected if you are initializing TFBertModel from a PyTorch model trained on another task or with another architecture (e.g. initializing a TFBertForSequenceClassification model from a BertForPreTraining model).\n",
      "- This IS NOT expected if you are initializing TFBertModel from a PyTorch model that you expect to be exactly identical (e.g. initializing a TFBertForSequenceClassification model from a BertForSequenceClassification model).\n",
      "All the weights of TFBertModel were initialized from the PyTorch model.\n",
      "If your task is similar to the task the model of the checkpoint was trained on, you can already use TFBertModel for predictions without further training.\n"
     ]
    },
    {
     "name": "stdout",
     "output_type": "stream",
     "text": [
      "Model: \"model\"\n",
      "__________________________________________________________________________________________________\n",
      " Layer (type)                Output Shape                 Param #   Connected to                  \n",
      "==================================================================================================\n",
      " input_1 (InputLayer)        [(None, 128)]                0         []                            \n",
      "                                                                                                  \n",
      " input_2 (InputLayer)        [(None, 128)]                0         []                            \n",
      "                                                                                                  \n",
      " tf_bert_model (TFBertModel  TFBaseModelOutputWithPooli   1094822   ['input_1[0][0]',             \n",
      " )                           ngAndCrossAttentions(last_   40         'input_2[0][0]']             \n",
      "                             hidden_state=(None, 128, 7                                           \n",
      "                             68),                                                                 \n",
      "                              pooler_output=(None, 768)                                           \n",
      "                             , past_key_values=None, hi                                           \n",
      "                             dden_states=None, attentio                                           \n",
      "                             ns=None, cross_attentions=                                           \n",
      "                             None)                                                                \n",
      "                                                                                                  \n",
      " bidirectional (Bidirection  (None, 128, 128)             426496    ['tf_bert_model[0][0]']       \n",
      " al)                                                                                              \n",
      "                                                                                                  \n",
      " average_pooling1d (Average  (None, 125, 128)             0         ['bidirectional[0][0]']       \n",
      " Pooling1D)                                                                                       \n",
      "                                                                                                  \n",
      " flatten (Flatten)           (None, 16000)                0         ['average_pooling1d[0][0]']   \n",
      "                                                                                                  \n",
      " dense (Dense)               (None, 3)                    48003     ['flatten[0][0]']             \n",
      "                                                                                                  \n",
      "==================================================================================================\n",
      "Total params: 109956739 (419.45 MB)\n",
      "Trainable params: 474499 (1.81 MB)\n",
      "Non-trainable params: 109482240 (417.64 MB)\n",
      "__________________________________________________________________________________________________\n"
     ]
    }
   ],
   "source": [
    "from tensorflow.keras.models import Model\n",
    "from tensorflow.keras.layers import Input, LSTM, Dense, Bidirectional, TimeDistributed, AveragePooling1D, Flatten\n",
    "from transformers import TFBertModel\n",
    "\n",
    "# Load pretrained BERT\n",
    "bert = TFBertModel.from_pretrained('bert-base-uncased')\n",
    "bert.trainable = False  # Freeze BERT\n",
    "\n",
    "# Inputs\n",
    "input_ids = Input(shape=(128,), dtype='int32')\n",
    "attention_masks = Input(shape=(128,), dtype='int32')\n",
    "\n",
    "# BERT embeddings\n",
    "embeddings = bert(input_ids, attention_mask=attention_masks)[0]\n",
    "\n",
    "# BiLSTM layer\n",
    "bilstm = Bidirectional(LSTM(64, return_sequences=True))(embeddings)\n",
    "avg_pool = AveragePooling1D(pool_size=4, strides=1)(bilstm)\n",
    "flat = Flatten()(avg_pool)\n",
    "\n",
    "# Classifier\n",
    "classifier = Dense(3, activation='softmax')(flat)\n",
    "\n",
    "# Construct model\n",
    "model = Model(inputs=[input_ids, attention_masks], outputs=classifier)\n",
    "model.compile(optimizer='adam', loss='sparse_categorical_crossentropy', metrics=['accuracy'])\n",
    "\n",
    "# Summarize model\n",
    "model.summary()\n"
   ]
  },
  {
   "cell_type": "markdown",
   "metadata": {},
   "source": [
    "## **Train the model for Train and Validation Accuracy Loss**"
   ]
  },
  {
   "cell_type": "code",
   "execution_count": 8,
   "metadata": {},
   "outputs": [
    {
     "name": "stdout",
     "output_type": "stream",
     "text": [
      "Input IDs shape: (10000, 128)\n",
      "Attention Masks shape: (10000, 128)\n",
      "Labels shape: (10000,)\n",
      "282/282 [==============================] - 1408s 5s/step - loss: 1.1253 - accuracy: 0.3067 - val_loss: 1.0991 - val_accuracy: 0.3350\n"
     ]
    }
   ],
   "source": [
    "import tensorflow as tf\n",
    "\n",
    "def bert_encode(sentences, tokenizer, max_len=128):\n",
    "    all_input_ids = []\n",
    "    all_attention_masks = []\n",
    "\n",
    "    for sent in sentences:\n",
    "        encoded_dict = tokenizer.encode_plus(\n",
    "            sent,\n",
    "            add_special_tokens=True,\n",
    "            max_length=max_len,\n",
    "            pad_to_max_length=True,\n",
    "            return_attention_mask=True,\n",
    "            return_tensors='tf',  # Make sure to use 'tf' to get TensorFlow tensors directly\n",
    "        )\n",
    "        \n",
    "        all_input_ids.append(encoded_dict['input_ids'][0])  # Access the tensor inside the batch\n",
    "        all_attention_masks.append(encoded_dict['attention_mask'][0])\n",
    "\n",
    "    # Convert lists to tensors\n",
    "    all_input_ids = tf.stack(all_input_ids, axis=0)\n",
    "    all_attention_masks = tf.stack(all_attention_masks, axis=0)\n",
    "\n",
    "    return all_input_ids, all_attention_masks\n",
    "\n",
    "# Usage\n",
    "input_ids, attention_masks = bert_encode(train_df['sentence1'].values, tokenizer)\n",
    "labels = train_df['label'].values\n",
    "\n",
    "print('Input IDs shape:', input_ids.shape)\n",
    "print('Attention Masks shape:', attention_masks.shape)\n",
    "print('Labels shape:', labels.shape)\n",
    "\n",
    "# If shapes are correct, proceed to train\n",
    "history = model.fit([input_ids, attention_masks], labels, batch_size=32, epochs=1, validation_split=0.1)\n"
   ]
  },
  {
   "cell_type": "markdown",
   "metadata": {},
   "source": [
    "## **Print Desired Outputs**"
   ]
  },
  {
   "cell_type": "code",
   "execution_count": 9,
   "metadata": {},
   "outputs": [
    {
     "name": "stdout",
     "output_type": "stream",
     "text": [
      "Training Loss: [1.1252553462982178]\n",
      "Training Accuracy: [0.30666667222976685]\n",
      "Validation Loss: [1.0991119146347046]\n",
      "Validation Accuracy: [0.33500000834465027]\n"
     ]
    }
   ],
   "source": [
    "print(\"Training Loss:\", history.history['loss'])\n",
    "print(\"Training Accuracy:\", history.history['accuracy'])\n",
    "print(\"Validation Loss:\", history.history['val_loss'])\n",
    "print(\"Validation Accuracy:\", history.history['val_accuracy'])\n"
   ]
  },
  {
   "cell_type": "code",
   "execution_count": 10,
   "metadata": {},
   "outputs": [
    {
     "name": "stderr",
     "output_type": "stream",
     "text": [
      "Truncation was not explicitly activated but `max_length` is provided a specific value, please use `truncation=True` to explicitly truncate examples to max length. Defaulting to 'longest_first' truncation strategy. If you encode pairs of sequences (GLUE-style) with the tokenizer you can select this strategy more precisely by providing a specific strategy to `truncation`.\n",
      "/Users/jakebrulato/Documents/GitHub/KDD/.venv/lib/python3.10/site-packages/transformers/tokenization_utils_base.py:2645: FutureWarning: The `pad_to_max_length` argument is deprecated and will be removed in a future version, use `padding=True` or `padding='longest'` to pad to the longest sequence in the batch, or use `padding='max_length'` to pad to a max length. In this case, you can give a specific length with `max_length` (e.g. `max_length=45`) or leave max_length to None to pad to the maximal input size of the model (e.g. 512 for Bert).\n",
      "  warnings.warn(\n",
      "Some weights of the PyTorch model were not used when initializing the TF 2.0 model TFBertModel: ['cls.predictions.transform.dense.bias', 'cls.predictions.transform.dense.weight', 'cls.seq_relationship.bias', 'cls.predictions.transform.LayerNorm.bias', 'cls.predictions.bias', 'cls.seq_relationship.weight', 'cls.predictions.transform.LayerNorm.weight']\n",
      "- This IS expected if you are initializing TFBertModel from a PyTorch model trained on another task or with another architecture (e.g. initializing a TFBertForSequenceClassification model from a BertForPreTraining model).\n",
      "- This IS NOT expected if you are initializing TFBertModel from a PyTorch model that you expect to be exactly identical (e.g. initializing a TFBertForSequenceClassification model from a BertForSequenceClassification model).\n",
      "All the weights of TFBertModel were initialized from the PyTorch model.\n",
      "If your task is similar to the task the model of the checkpoint was trained on, you can already use TFBertModel for predictions without further training.\n"
     ]
    },
    {
     "name": "stdout",
     "output_type": "stream",
     "text": [
      "282/282 [==============================] - 1368s 5s/step - loss: 1.1301 - accuracy: 0.3119 - val_loss: 1.0990 - val_accuracy: 0.3310\n"
     ]
    }
   ],
   "source": [
    "import tensorflow as tf\n",
    "from transformers import BertTokenizer, TFBertModel\n",
    "from tensorflow.keras.models import Model\n",
    "from tensorflow.keras.layers import Input, LSTM, Dense, Bidirectional, AveragePooling1D, Flatten\n",
    "from sklearn.model_selection import train_test_split\n",
    "\n",
    "# Load the dataset\n",
    "train_df = pd.read_csv('/Users/jakebrulato/Documents/GitHub/KDD/Homework_12/SNLI_Corpus/SNLI_Corpus/snli_1.0_train.csv')\n",
    "train_df = train_df[train_df['similarity'].isin(['entailment', 'contradiction', 'neutral'])].head(10000)\n",
    "\n",
    "# Map labels to integers\n",
    "label_mapping = {'entailment': 0, 'contradiction': 1, 'neutral': 2}\n",
    "train_df['label'] = train_df['similarity'].map(label_mapping)\n",
    "\n",
    "# Tokenizer\n",
    "tokenizer = BertTokenizer.from_pretrained('bert-base-uncased')\n",
    "\n",
    "# Function to encode sentences\n",
    "def bert_encode(sentences, tokenizer, max_len=128):\n",
    "    all_input_ids = []\n",
    "    all_attention_masks = []\n",
    "\n",
    "    for sent in sentences:\n",
    "        encoded_dict = tokenizer.encode_plus(\n",
    "            sent,\n",
    "            add_special_tokens=True,\n",
    "            max_length=max_len,\n",
    "            pad_to_max_length=True,\n",
    "            return_attention_mask=True,\n",
    "            return_tensors='tf'\n",
    "        )\n",
    "        all_input_ids.append(encoded_dict['input_ids'][0])\n",
    "        all_attention_masks.append(encoded_dict['attention_mask'][0])\n",
    "\n",
    "    all_input_ids = tf.stack(all_input_ids, axis=0)\n",
    "    all_attention_masks = tf.stack(all_attention_masks, axis=0)\n",
    "\n",
    "    return all_input_ids, all_attention_masks\n",
    "\n",
    "# Encode the sentences\n",
    "input_ids, attention_masks = bert_encode(train_df['sentence1'].values, tokenizer)\n",
    "labels = train_df['label'].values\n",
    "\n",
    "# Load the pretrained BERT model\n",
    "bert = TFBertModel.from_pretrained('bert-base-uncased')\n",
    "bert.trainable = False  # Freeze BERT\n",
    "\n",
    "# Define the model architecture\n",
    "input_ids_layer = Input(shape=(128,), dtype='int32', name='input_ids')\n",
    "attention_masks_layer = Input(shape=(128,), dtype='int32', name='attention_masks')\n",
    "\n",
    "# BERT embeddings\n",
    "embeddings = bert(input_ids_layer, attention_mask=attention_masks_layer)[0]\n",
    "\n",
    "# BiLSTM layer\n",
    "bilstm = Bidirectional(LSTM(64, return_sequences=True))(embeddings)\n",
    "avg_pool = AveragePooling1D(pool_size=4, strides=1)(bilstm)\n",
    "flat = Flatten()(avg_pool)\n",
    "\n",
    "# Classifier\n",
    "classifier = Dense(3, activation='softmax')(flat)\n",
    "\n",
    "# Construct the model\n",
    "model = Model(inputs=[input_ids_layer, attention_masks_layer], outputs=classifier)\n",
    "\n",
    "# Compile the model\n",
    "model.compile(optimizer='adam', \n",
    "              loss='sparse_categorical_crossentropy', \n",
    "              metrics=['accuracy'])\n",
    "\n",
    "# Training the model\n",
    "history = model.fit([input_ids, attention_masks], labels, \n",
    "                    batch_size=32, epochs=1, validation_split=0.1)\n"
   ]
  },
  {
   "cell_type": "code",
   "execution_count": 11,
   "metadata": {},
   "outputs": [
    {
     "name": "stdout",
     "output_type": "stream",
     "text": [
      "Training Loss: [1.130107045173645]\n",
      "Training Accuracy: [0.3118889033794403]\n",
      "Validation Loss: [1.0989935398101807]\n",
      "Validation Accuracy: [0.3310000002384186]\n"
     ]
    }
   ],
   "source": [
    "print(\"Training Loss:\", history.history['loss'])\n",
    "print(\"Training Accuracy:\", history.history['accuracy'])\n",
    "print(\"Validation Loss:\", history.history['val_loss'])\n",
    "print(\"Validation Accuracy:\", history.history['val_accuracy'])"
   ]
  }
 ],
 "metadata": {
  "kernelspec": {
   "display_name": ".venv",
   "language": "python",
   "name": "python3"
  },
  "language_info": {
   "codemirror_mode": {
    "name": "ipython",
    "version": 3
   },
   "file_extension": ".py",
   "mimetype": "text/x-python",
   "name": "python",
   "nbconvert_exporter": "python",
   "pygments_lexer": "ipython3",
   "version": "3.10.11"
  }
 },
 "nbformat": 4,
 "nbformat_minor": 2
}
